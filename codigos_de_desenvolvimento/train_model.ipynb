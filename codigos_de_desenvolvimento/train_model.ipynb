{
 "cells": [
  {
   "cell_type": "markdown",
   "id": "6e8374ad",
   "metadata": {},
   "source": [
    "O presente script é aplicado para realizar o treinamento dos modelos."
   ]
  },
  {
   "cell_type": "markdown",
   "id": "f3a2f1dc",
   "metadata": {},
   "source": [
    "# 0 - Importando Bibliotecas"
   ]
  },
  {
   "cell_type": "code",
   "execution_count": null,
   "id": "c56335e3",
   "metadata": {},
   "outputs": [],
   "source": [
    "%matplotlib inline"
   ]
  },
  {
   "cell_type": "code",
   "execution_count": null,
   "id": "e86579b5",
   "metadata": {},
   "outputs": [],
   "source": [
    "from project_utils.training_pipeline import *\n",
    "from project_utils.fo_dataset_pipeline import *\n",
    "from project_utils.eval_pipeline import *\n",
    "from project_utils.visualization_utils import *\n",
    "import fiftyone as fo"
   ]
  },
  {
   "cell_type": "code",
   "execution_count": null,
   "id": "6eb6eaa0",
   "metadata": {},
   "outputs": [],
   "source": [
    "base_path = '../faster_rcnn/new_train/'\n",
    "\n",
    "# cria o diretório onde o modelo treinado será salvo com a numeração atual do experimento\n",
    "model_path = get_path_to_save_model(base_path)"
   ]
  },
  {
   "cell_type": "code",
   "execution_count": null,
   "id": "cac19e99",
   "metadata": {},
   "outputs": [],
   "source": [
    "model_path"
   ]
  },
  {
   "cell_type": "markdown",
   "id": "c69dcb70",
   "metadata": {},
   "source": [
    "# 1. - Pipeline de Treinamento"
   ]
  },
  {
   "cell_type": "markdown",
   "id": "e4717607",
   "metadata": {},
   "source": [
    "## 1.0 - Especificação de hiperparâmetros"
   ]
  },
  {
   "cell_type": "markdown",
   "id": "55aea70a",
   "metadata": {},
   "source": [
    "Nome dos backbones disponíveis: \n",
    "- resnet50_fpn_1x\n",
    "- resnet50_fpn_2x\n",
    "- resnet101_fpn_1x\n",
    "- resnet101_fpn_2x\n",
    "- resnext101_32x4d_fpn_1x\n",
    "- resnext101_32x4d_fpn_2x\n",
    "- resnext101_64x4d_fpn_1x\n",
    "- resnext101_64x4d_fpn_2x\n",
    "\n",
    "\n",
    "\n"
   ]
  },
  {
   "cell_type": "code",
   "execution_count": null,
   "id": "da714403",
   "metadata": {},
   "outputs": [],
   "source": [
    "hyperparam = Hyperparameters(\n",
    "    model_name = 'mmdet.faster_rcnn',\n",
    "    backbone_name = 'resnet50_fpn_1x',\n",
    "    learning_rate = 1e-4,\n",
    "    num_epochs = 20,\n",
    "    train_shuffle = False,\n",
    "    batch_size = 1,\n",
    "    img_size = 512,\n",
    "    presize = None\n",
    ")"
   ]
  },
  {
   "cell_type": "markdown",
   "id": "3f7bf2cc",
   "metadata": {},
   "source": [
    "## 1.1 - Parseamento dos dados"
   ]
  },
  {
   "cell_type": "code",
   "execution_count": null,
   "id": "376a1d3d",
   "metadata": {},
   "outputs": [],
   "source": [
    "train_records, valid_records, class_map = parse_data(dataset_type = 'partial')"
   ]
  },
  {
   "cell_type": "code",
   "execution_count": null,
   "id": "128c48d2",
   "metadata": {},
   "outputs": [],
   "source": [
    "# defini o número de classes + brackground\n",
    "num_classes=len(class_map)\n",
    "print(f'Número de classes + background: {num_classes}')"
   ]
  },
  {
   "cell_type": "code",
   "execution_count": null,
   "id": "5893cf51",
   "metadata": {},
   "outputs": [],
   "source": [
    "len_train = len(train_records)\n",
    "len_valid = len(valid_records)\n",
    "\n",
    "print(f'Tamanho do conjunto de treinamento: {len_train}')\n",
    "print(f'Tamanho do conjunto de validação: {len_valid}')"
   ]
  },
  {
   "cell_type": "markdown",
   "id": "61b7a239",
   "metadata": {},
   "source": [
    "## 1.2 - Especificação de transformações"
   ]
  },
  {
   "cell_type": "code",
   "execution_count": null,
   "id": "ce6b19f2",
   "metadata": {},
   "outputs": [],
   "source": [
    "train_tfms = get_tfms(img_size = hyperparam.img_size, \n",
    "                      presize = hyperparam.presize,\n",
    "                      tfms_type ='train')"
   ]
  },
  {
   "cell_type": "code",
   "execution_count": null,
   "id": "54deae44",
   "metadata": {},
   "outputs": [],
   "source": [
    "valid_tfms = get_tfms(img_size = hyperparam.img_size,\n",
    "                      tfms_type = 'valid')"
   ]
  },
  {
   "cell_type": "markdown",
   "id": "ab597df4",
   "metadata": {},
   "source": [
    "## 1.3 - Instanciação dos Datasets"
   ]
  },
  {
   "cell_type": "code",
   "execution_count": null,
   "id": "35bc1ba0",
   "metadata": {},
   "outputs": [],
   "source": [
    "train_ds = get_dataset(records = train_records, \n",
    "                       tfms = train_tfms)"
   ]
  },
  {
   "cell_type": "code",
   "execution_count": null,
   "id": "fb65295c",
   "metadata": {},
   "outputs": [],
   "source": [
    "valid_ds = get_dataset(records = valid_records, \n",
    "                       tfms = valid_tfms)"
   ]
  },
  {
   "cell_type": "markdown",
   "id": "2de1683e",
   "metadata": {},
   "source": [
    "## 1.4 - Especificação do modelo"
   ]
  },
  {
   "cell_type": "code",
   "execution_count": null,
   "id": "10371fc6",
   "metadata": {
    "scrolled": true
   },
   "outputs": [],
   "source": [
    "model_type, backbone_type, extra_args = get_model_type(model_name = hyperparam.model_name, \n",
    "                                                       backbone_name = hyperparam.backbone_name, \n",
    "                                                       img_size = hyperparam.img_size)"
   ]
  },
  {
   "cell_type": "markdown",
   "id": "378228a8",
   "metadata": {},
   "source": [
    "## 1.5 - Instanciação do modelo"
   ]
  },
  {
   "cell_type": "code",
   "execution_count": null,
   "id": "c56da5bc",
   "metadata": {
    "scrolled": true
   },
   "outputs": [],
   "source": [
    "model = get_model(model_type = model_type, \n",
    "                  backbone_type = backbone_type, \n",
    "                  num_classes = num_classes, \n",
    "                  extra_args = extra_args)"
   ]
  },
  {
   "cell_type": "markdown",
   "id": "5e156dbb",
   "metadata": {},
   "source": [
    "## 1.6 - Instanciação dos Dataloaders"
   ]
  },
  {
   "cell_type": "code",
   "execution_count": null,
   "id": "26ff534b",
   "metadata": {},
   "outputs": [],
   "source": [
    "train_dl = get_dataloader(model_type = model_type, \n",
    "                          dataset = train_ds, \n",
    "                          batch_size = hyperparam.batch_size, \n",
    "                          train_shuffle = hyperparam.train_shuffle, \n",
    "                          dataloader_type = 'train')"
   ]
  },
  {
   "cell_type": "code",
   "execution_count": null,
   "id": "72d97e04",
   "metadata": {},
   "outputs": [],
   "source": [
    "valid_dl = get_dataloader(model_type = model_type, \n",
    "                         dataset = valid_ds, \n",
    "                         batch_size = hyperparam.batch_size, \n",
    "                         dataloader_type = 'valid')"
   ]
  },
  {
   "cell_type": "markdown",
   "id": "2c0a1fcc",
   "metadata": {},
   "source": [
    "## 1.7 - Especificação da métrica de performance"
   ]
  },
  {
   "cell_type": "code",
   "execution_count": null,
   "id": "5cca11a7",
   "metadata": {},
   "outputs": [],
   "source": [
    "metrics =  get_bbox_metrics()\n",
    "dls = [train_dl, valid_dl]"
   ]
  },
  {
   "cell_type": "markdown",
   "id": "0c2b2209",
   "metadata": {},
   "source": [
    "## 1.8 - Instanciação do Learner"
   ]
  },
  {
   "cell_type": "code",
   "execution_count": null,
   "id": "6a48d3c0",
   "metadata": {},
   "outputs": [],
   "source": [
    "learner = get_learner(model_type = model_type, \n",
    "                      model = model, \n",
    "                      dls = dls, \n",
    "                      metrics = metrics)"
   ]
  },
  {
   "cell_type": "markdown",
   "id": "33cd1f53",
   "metadata": {},
   "source": [
    "## 1.9  - Treinamento do modelo"
   ]
  },
  {
   "cell_type": "code",
   "execution_count": null,
   "id": "5c879af7",
   "metadata": {
    "scrolled": true
   },
   "outputs": [],
   "source": [
    "train(learner = learner, \n",
    "      num_epochs = hyperparam.num_epochs, \n",
    "      learning_rate = hyperparam.learning_rate)"
   ]
  },
  {
   "cell_type": "markdown",
   "id": "c3802d3c",
   "metadata": {},
   "source": [
    "## 1.10 - Armazenmento do modelo treinado (e de metadados)"
   ]
  },
  {
   "cell_type": "code",
   "execution_count": null,
   "id": "2cf81bfe",
   "metadata": {},
   "outputs": [],
   "source": [
    "save_epoch_history(learner = learner, path_to_save = model_path)"
   ]
  },
  {
   "cell_type": "code",
   "execution_count": null,
   "id": "090599da",
   "metadata": {},
   "outputs": [],
   "source": [
    "save_hyperparameters(hyperparameters = hyperparam, path_to_save = model_path)"
   ]
  },
  {
   "cell_type": "code",
   "execution_count": null,
   "id": "f3d71095",
   "metadata": {},
   "outputs": [],
   "source": [
    "save_model(model = model, hyperparameters = hyperparam, \n",
    "           class_map = class_map, path_to_save = model_path)"
   ]
  },
  {
   "cell_type": "markdown",
   "id": "68d9f2df",
   "metadata": {},
   "source": [
    "# 2 - Pipeline de Criação do Dataset FiftyOne"
   ]
  },
  {
   "cell_type": "code",
   "execution_count": null,
   "id": "82d6c1be",
   "metadata": {},
   "outputs": [],
   "source": [
    "dataset_name = get_fo_dataset_name(model_path)\n",
    "apply_fo_dataset_pipeline(model_path, dataset_name, dataset_type='partial')"
   ]
  },
  {
   "cell_type": "markdown",
   "id": "890c7218",
   "metadata": {},
   "source": [
    "# 3 - Pipeline de Avaliação "
   ]
  },
  {
   "cell_type": "code",
   "execution_count": null,
   "id": "6fe105d3",
   "metadata": {},
   "outputs": [],
   "source": [
    "fo_dataset = fo.load_dataset(dataset_name)\n",
    "apply_eval_pipeline(fo_dataset, model_path)"
   ]
  }
 ],
 "metadata": {
  "kernelspec": {
   "display_name": "Python 3 (ipykernel)",
   "language": "python",
   "name": "python3"
  },
  "language_info": {
   "codemirror_mode": {
    "name": "ipython",
    "version": 3
   },
   "file_extension": ".py",
   "mimetype": "text/x-python",
   "name": "python",
   "nbconvert_exporter": "python",
   "pygments_lexer": "ipython3",
   "version": "3.9.16"
  }
 },
 "nbformat": 4,
 "nbformat_minor": 5
}
