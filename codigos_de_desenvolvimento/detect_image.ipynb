{
 "cells": [
  {
   "cell_type": "markdown",
   "metadata": {},
   "source": [
    "Neste notebook, consta o código para anotar novas imagens por meio do modelo definitivo. \n",
    "\n",
    "**OBS**: alguns alertas podem ser levantados durante sua execução."
   ]
  },
  {
   "cell_type": "markdown",
   "metadata": {},
   "source": [
    "# Imports"
   ]
  },
  {
   "cell_type": "code",
   "execution_count": null,
   "metadata": {},
   "outputs": [],
   "source": [
    "import sys\n",
    "import PIL\n",
    "from project_utils.fo_dataset_pipeline import *\n",
    "from project_utils.draw_detections import *"
   ]
  },
  {
   "cell_type": "markdown",
   "metadata": {},
   "source": [
    "# Carregando o Modelo "
   ]
  },
  {
   "cell_type": "code",
   "execution_count": null,
   "metadata": {},
   "outputs": [],
   "source": [
    "# caminho para o modelo definitivo\n",
    "model_path = '../faster_rcnn/final_test/model_0/mmdet.faster_rcnn_resnext101_32x4d_fpn_1x.pth'\n",
    "\n",
    "# carrega o modelo \n",
    "model_type, model, img_size, class_map = get_model_from_checkpoint(model_path)\n",
    "\n",
    "# define a lista de transformações na imagem para inferência pelo modelo conforme os parâmetros de treinamento\n",
    "infer_tfms = get_tfms(img_size=img_size, tfms_type = 'valid')"
   ]
  },
  {
   "cell_type": "markdown",
   "metadata": {},
   "source": [
    "# Carregando Imagem"
   ]
  },
  {
   "cell_type": "code",
   "execution_count": null,
   "metadata": {},
   "outputs": [],
   "source": [
    "# solicita o nome de arquivo da imagem\n",
    "image_filename = input('Digite o nome da imagem: ')\n",
    "\n",
    "# define o nome do novo arquivo da imagem anotada\n",
    "new_image_filename = f'new_{image_filename.split(\".\")[0]}.png'\n",
    "\n",
    "# realiza a leitura da imagem\n",
    "image = cv2.imread(image_filename)"
   ]
  },
  {
   "cell_type": "markdown",
   "metadata": {},
   "source": [
    "# Anotando Imagem"
   ]
  },
  {
   "cell_type": "code",
   "execution_count": null,
   "metadata": {},
   "outputs": [],
   "source": [
    "# converte de BGR para RGB\n",
    "pil_array = cv2.cvtColor(image, cv2.COLOR_BGR2RGB)\n",
    "        \n",
    "# converte array em objeto PIL\n",
    "pil_frame = PIL.Image.fromarray(pil_array)\n",
    "\n",
    "# inferência\n",
    "preds = model_type.end2end_detect(pil_frame, infer_tfms, model, class_map=class_map, detection_threshold=0.5)\n",
    "        \n",
    "# anota a imagem\n",
    "new_image = draw_bb(image, preds)"
   ]
  },
  {
   "cell_type": "markdown",
   "metadata": {},
   "source": [
    "# Salvando Imagem"
   ]
  },
  {
   "cell_type": "code",
   "execution_count": null,
   "metadata": {},
   "outputs": [],
   "source": [
    "cv2.imwrite(new_image_filename, new_image)"
   ]
  }
 ],
 "metadata": {
  "kernelspec": {
   "display_name": "Python 3 (ipykernel)",
   "language": "python",
   "name": "python3"
  },
  "language_info": {
   "codemirror_mode": {
    "name": "ipython",
    "version": 3
   },
   "file_extension": ".py",
   "mimetype": "text/x-python",
   "name": "python",
   "nbconvert_exporter": "python",
   "pygments_lexer": "ipython3",
   "version": "3.9.16"
  }
 },
 "nbformat": 4,
 "nbformat_minor": 2
}
