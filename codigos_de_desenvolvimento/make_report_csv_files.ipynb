{
 "cells": [
  {
   "cell_type": "markdown",
   "id": "12486d97",
   "metadata": {},
   "source": [
    "O presente notebook foi empregado para visualizar os resultados dos experimentos na forma de tabelas. "
   ]
  },
  {
   "cell_type": "markdown",
   "id": "82b7db01",
   "metadata": {
    "heading_collapsed": true
   },
   "source": [
    "# Imports"
   ]
  },
  {
   "cell_type": "code",
   "execution_count": 1,
   "id": "2dec1f24",
   "metadata": {
    "hidden": true
   },
   "outputs": [],
   "source": [
    "import os \n",
    "import pandas as pd\n",
    "import fiftyone as fo\n",
    "import numpy as np"
   ]
  },
  {
   "cell_type": "code",
   "execution_count": 2,
   "id": "b6da355f",
   "metadata": {
    "hidden": true
   },
   "outputs": [],
   "source": [
    "# específica o formato de exibição dos floats. \n",
    "pd.set_option('display.float_format', '{:,.4f}'.format)  "
   ]
  },
  {
   "cell_type": "markdown",
   "id": "20e06d51",
   "metadata": {
    "heading_collapsed": true
   },
   "source": [
    "# Funções Auxiliares"
   ]
  },
  {
   "cell_type": "markdown",
   "id": "d654cf36",
   "metadata": {
    "hidden": true
   },
   "source": [
    "A função `get_hyperparameters`retorna, na forma de uma DataFrame, os valores de hiperparâmetros contidos no arquivo `hyperparameters.csv` na pasta de cada modelo treinado. "
   ]
  },
  {
   "cell_type": "code",
   "execution_count": 3,
   "id": "951fbab9",
   "metadata": {
    "hidden": true
   },
   "outputs": [],
   "source": [
    "def get_hyperparameters(csv_hyperparameter_pathes):\n",
    "    '''\n",
    "    Função responsável por recuperar os hiperparâmetros dos experimentos. \n",
    "    '''\n",
    "    \n",
    "    rows = []\n",
    "\n",
    "    for path in csv_hyperparameter_pathes:\n",
    "        model_id = int(path.split('/')[-2].split('model_')[-1])\n",
    "        df_hyperparameters = pd.read_csv(path)\n",
    "        df_hyperparameters.insert(0, 'model_id', model_id)\n",
    "        rows.append(df_hyperparameters)\n",
    "\n",
    "    return pd.concat(rows).sort_values('model_id').reset_index(drop=True)"
   ]
  },
  {
   "cell_type": "markdown",
   "id": "7dad64cb",
   "metadata": {
    "hidden": true
   },
   "source": [
    "A função `get_final_metrics` retorna, na forma de uma DataFrame, os valores das métricas finais de mAP, mAP@.50, mAP@.75, bem como o total de verdadeiros positivo, falsos positivo e falsos negativos contidos no arquivo `final_metrics.csv` na pasta de cada modelo treinado. "
   ]
  },
  {
   "cell_type": "code",
   "execution_count": 4,
   "id": "ee102923",
   "metadata": {
    "hidden": true
   },
   "outputs": [],
   "source": [
    "def get_final_metrics(csv_final_metrics_pathes):\n",
    "    '''\n",
    "    Função responsável por recuperar as métricas finais dos experimentos. \n",
    "    '''\n",
    "    \n",
    "    rows = []\n",
    "\n",
    "    for path in csv_final_metrics_pathes:\n",
    "        model_id = int(path.split('/')[-2].split('model_')[-1])\n",
    "        df_final_metrics = pd.read_csv(path)\n",
    "        df_final_metrics.insert(0, 'model_id', model_id)\n",
    "        rows.append(df_final_metrics[['model_id','AP', 'AP50', 'AP75', 'TP', 'FP', 'FN']])\n",
    "\n",
    "    return pd.concat(rows).sort_values('model_id').reset_index(drop=True)"
   ]
  },
  {
   "cell_type": "markdown",
   "id": "e660332c",
   "metadata": {
    "hidden": true
   },
   "source": [
    "A função `merge_dataframes` une os DataFrames referentes aos hiperparâmetros e as métricas em um único DataFrame a partir da coluna `model_id`. "
   ]
  },
  {
   "cell_type": "code",
   "execution_count": 5,
   "id": "2dbe1c92",
   "metadata": {
    "hidden": true
   },
   "outputs": [],
   "source": [
    "def merge_dataframes(df_hyperparameters, df_final_metrics):\n",
    "    df_merge = pd.merge(df_hyperparameters, df_final_metrics, on='model_id')\n",
    "    return df_merge  "
   ]
  },
  {
   "cell_type": "markdown",
   "id": "061aa4bf",
   "metadata": {
    "hidden": true
   },
   "source": [
    "A função `make_metrics_per_class_df` retorna as métricas precisão, revocação, bem como o total de verdadeiros positivos, de falsos positivos e de falsos negativos para cada classe através de um DataFrame. Além disso, retorna um DataFrame secundário com o resumo estatístico desses dados.   "
   ]
  },
  {
   "cell_type": "code",
   "execution_count": 6,
   "id": "fe2956b7",
   "metadata": {
    "hidden": true
   },
   "outputs": [],
   "source": [
    "def make_metrics_per_class_df(path):\n",
    "    df_metrics_per_class = pd.read_csv(path)\n",
    "    df_metrics_per_class.drop(['f1-score'], axis=1, inplace=True)\n",
    "    df_metrics_per_class.columns = df_metrics_per_class.columns.str.replace('Unnamed: 0','')\n",
    "    \n",
    "    stats = {\n",
    "    'mean_precision': np.round(df_metrics_per_class['precision'].mean(), 4),\n",
    "    'mean_recall': np.round(df_metrics_per_class['recall'].mean(), 4), \n",
    "    'total_tp': df_metrics_per_class['TP'].sum(), \n",
    "    'total_fp': df_metrics_per_class['FP'].sum(), \n",
    "    'total_fn': df_metrics_per_class['FN'].sum()\n",
    "    }\n",
    "    \n",
    "    df_stats = pd.DataFrame(stats, index=[0])\n",
    "    \n",
    "    return df_metrics_per_class, df_stats"
   ]
  },
  {
   "cell_type": "markdown",
   "id": "ed522ac8",
   "metadata": {
    "heading_collapsed": true
   },
   "source": [
    "# Backbone Selection"
   ]
  },
  {
   "cell_type": "markdown",
   "id": "3f235cbb",
   "metadata": {
    "hidden": true
   },
   "source": [
    "Apresentação dos resultados encontrados na fase de seleção da backbone. "
   ]
  },
  {
   "cell_type": "code",
   "execution_count": 7,
   "id": "a908167f",
   "metadata": {
    "hidden": true
   },
   "outputs": [
    {
     "data": {
      "text/html": [
       "<div>\n",
       "<style scoped>\n",
       "    .dataframe tbody tr th:only-of-type {\n",
       "        vertical-align: middle;\n",
       "    }\n",
       "\n",
       "    .dataframe tbody tr th {\n",
       "        vertical-align: top;\n",
       "    }\n",
       "\n",
       "    .dataframe thead th {\n",
       "        text-align: right;\n",
       "    }\n",
       "</style>\n",
       "<table border=\"1\" class=\"dataframe\">\n",
       "  <thead>\n",
       "    <tr style=\"text-align: right;\">\n",
       "      <th></th>\n",
       "      <th>model_id</th>\n",
       "      <th>model_type</th>\n",
       "      <th>backbone_type</th>\n",
       "      <th>batch_size</th>\n",
       "      <th>learning_rate</th>\n",
       "      <th>num_epochs</th>\n",
       "      <th>train_shuffle</th>\n",
       "      <th>image_size</th>\n",
       "      <th>AP</th>\n",
       "      <th>AP50</th>\n",
       "      <th>AP75</th>\n",
       "      <th>TP</th>\n",
       "      <th>FP</th>\n",
       "      <th>FN</th>\n",
       "    </tr>\n",
       "  </thead>\n",
       "  <tbody>\n",
       "    <tr>\n",
       "      <th>0</th>\n",
       "      <td>0</td>\n",
       "      <td>mmdet.faster_rcnn</td>\n",
       "      <td>resnet50_fpn_1x</td>\n",
       "      <td>1.0000</td>\n",
       "      <td>0.0001</td>\n",
       "      <td>20.0000</td>\n",
       "      <td>False</td>\n",
       "      <td>512.0000</td>\n",
       "      <td>0.6287</td>\n",
       "      <td>0.8711</td>\n",
       "      <td>0.7887</td>\n",
       "      <td>159</td>\n",
       "      <td>35</td>\n",
       "      <td>13</td>\n",
       "    </tr>\n",
       "    <tr>\n",
       "      <th>1</th>\n",
       "      <td>1</td>\n",
       "      <td>mmdet.faster_rcnn</td>\n",
       "      <td>resnet50_fpn_2x</td>\n",
       "      <td>1.0000</td>\n",
       "      <td>0.0001</td>\n",
       "      <td>20.0000</td>\n",
       "      <td>False</td>\n",
       "      <td>512.0000</td>\n",
       "      <td>0.6234</td>\n",
       "      <td>0.8718</td>\n",
       "      <td>0.7628</td>\n",
       "      <td>159</td>\n",
       "      <td>47</td>\n",
       "      <td>13</td>\n",
       "    </tr>\n",
       "    <tr>\n",
       "      <th>2</th>\n",
       "      <td>2</td>\n",
       "      <td>mmdet.faster_rcnn</td>\n",
       "      <td>resnet101_fpn_1x</td>\n",
       "      <td>1.0000</td>\n",
       "      <td>0.0001</td>\n",
       "      <td>20.0000</td>\n",
       "      <td>False</td>\n",
       "      <td>512.0000</td>\n",
       "      <td>0.6489</td>\n",
       "      <td>0.8723</td>\n",
       "      <td>0.8209</td>\n",
       "      <td>157</td>\n",
       "      <td>24</td>\n",
       "      <td>15</td>\n",
       "    </tr>\n",
       "    <tr>\n",
       "      <th>3</th>\n",
       "      <td>3</td>\n",
       "      <td>mmdet.faster_rcnn</td>\n",
       "      <td>resnet101_fpn_2x</td>\n",
       "      <td>1.0000</td>\n",
       "      <td>0.0001</td>\n",
       "      <td>20.0000</td>\n",
       "      <td>False</td>\n",
       "      <td>512.0000</td>\n",
       "      <td>0.6518</td>\n",
       "      <td>0.8767</td>\n",
       "      <td>0.8381</td>\n",
       "      <td>158</td>\n",
       "      <td>18</td>\n",
       "      <td>14</td>\n",
       "    </tr>\n",
       "    <tr>\n",
       "      <th>4</th>\n",
       "      <td>4</td>\n",
       "      <td>mmdet.faster_rcnn</td>\n",
       "      <td>resnext101_32x4d_fpn_1x</td>\n",
       "      <td>1.0000</td>\n",
       "      <td>0.0001</td>\n",
       "      <td>20.0000</td>\n",
       "      <td>False</td>\n",
       "      <td>512.0000</td>\n",
       "      <td>0.7133</td>\n",
       "      <td>0.9417</td>\n",
       "      <td>0.8865</td>\n",
       "      <td>165</td>\n",
       "      <td>18</td>\n",
       "      <td>7</td>\n",
       "    </tr>\n",
       "    <tr>\n",
       "      <th>5</th>\n",
       "      <td>5</td>\n",
       "      <td>mmdet.faster_rcnn</td>\n",
       "      <td>resnext101_32x4d_fpn_2x</td>\n",
       "      <td>1.0000</td>\n",
       "      <td>0.0001</td>\n",
       "      <td>20.0000</td>\n",
       "      <td>False</td>\n",
       "      <td>512.0000</td>\n",
       "      <td>0.6739</td>\n",
       "      <td>0.8870</td>\n",
       "      <td>0.8433</td>\n",
       "      <td>159</td>\n",
       "      <td>26</td>\n",
       "      <td>13</td>\n",
       "    </tr>\n",
       "    <tr>\n",
       "      <th>6</th>\n",
       "      <td>6</td>\n",
       "      <td>mmdet.faster_rcnn</td>\n",
       "      <td>resnext101_64x4d_fpn_1x</td>\n",
       "      <td>1.0000</td>\n",
       "      <td>0.0001</td>\n",
       "      <td>20.0000</td>\n",
       "      <td>False</td>\n",
       "      <td>512.0000</td>\n",
       "      <td>0.6960</td>\n",
       "      <td>0.9280</td>\n",
       "      <td>0.8648</td>\n",
       "      <td>163</td>\n",
       "      <td>16</td>\n",
       "      <td>9</td>\n",
       "    </tr>\n",
       "    <tr>\n",
       "      <th>7</th>\n",
       "      <td>7</td>\n",
       "      <td>mmdet.faster_rcnn</td>\n",
       "      <td>resnext101_64x4d_fpn_2x</td>\n",
       "      <td>1.0000</td>\n",
       "      <td>0.0001</td>\n",
       "      <td>20.0000</td>\n",
       "      <td>False</td>\n",
       "      <td>512.0000</td>\n",
       "      <td>0.6779</td>\n",
       "      <td>0.8874</td>\n",
       "      <td>0.8393</td>\n",
       "      <td>157</td>\n",
       "      <td>27</td>\n",
       "      <td>15</td>\n",
       "    </tr>\n",
       "  </tbody>\n",
       "</table>\n",
       "</div>"
      ],
      "text/plain": [
       "   model_id         model_type            backbone_type  batch_size  \\\n",
       "0         0  mmdet.faster_rcnn          resnet50_fpn_1x      1.0000   \n",
       "1         1  mmdet.faster_rcnn          resnet50_fpn_2x      1.0000   \n",
       "2         2  mmdet.faster_rcnn         resnet101_fpn_1x      1.0000   \n",
       "3         3  mmdet.faster_rcnn         resnet101_fpn_2x      1.0000   \n",
       "4         4  mmdet.faster_rcnn  resnext101_32x4d_fpn_1x      1.0000   \n",
       "5         5  mmdet.faster_rcnn  resnext101_32x4d_fpn_2x      1.0000   \n",
       "6         6  mmdet.faster_rcnn  resnext101_64x4d_fpn_1x      1.0000   \n",
       "7         7  mmdet.faster_rcnn  resnext101_64x4d_fpn_2x      1.0000   \n",
       "\n",
       "   learning_rate  num_epochs  train_shuffle  image_size     AP   AP50   AP75  \\\n",
       "0         0.0001     20.0000          False    512.0000 0.6287 0.8711 0.7887   \n",
       "1         0.0001     20.0000          False    512.0000 0.6234 0.8718 0.7628   \n",
       "2         0.0001     20.0000          False    512.0000 0.6489 0.8723 0.8209   \n",
       "3         0.0001     20.0000          False    512.0000 0.6518 0.8767 0.8381   \n",
       "4         0.0001     20.0000          False    512.0000 0.7133 0.9417 0.8865   \n",
       "5         0.0001     20.0000          False    512.0000 0.6739 0.8870 0.8433   \n",
       "6         0.0001     20.0000          False    512.0000 0.6960 0.9280 0.8648   \n",
       "7         0.0001     20.0000          False    512.0000 0.6779 0.8874 0.8393   \n",
       "\n",
       "    TP  FP  FN  \n",
       "0  159  35  13  \n",
       "1  159  47  13  \n",
       "2  157  24  15  \n",
       "3  158  18  14  \n",
       "4  165  18   7  \n",
       "5  159  26  13  \n",
       "6  163  16   9  \n",
       "7  157  27  15  "
      ]
     },
     "execution_count": 7,
     "metadata": {},
     "output_type": "execute_result"
    }
   ],
   "source": [
    "# caminho base para a pasta contendo os modelos treinados na fase de seleção da backbone\n",
    "base_path = '../faster_rcnn/backbone_selection/'\n",
    "\n",
    "# especifica os caminhos dos arquivos csv contendo os hiperparâmetros do treinamento, bem como as métricas alcançadas\n",
    "csv_hyperparameters_pathes = [base_path+folder+'/hyperparameters.csv' for folder in os.listdir(base_path)]\n",
    "csv_final_metrics_pathes = [base_path+folder+'/final_metrics.csv' for folder in os.listdir(base_path)]\n",
    "\n",
    "# cria os dataframes de hiperparâmetros e de métricas finais\n",
    "df_hyperparameters = get_hyperparameters(csv_hyperparameters_pathes)\n",
    "df_final_metrics = get_final_metrics(csv_final_metrics_pathes)\n",
    "\n",
    "# une os dataframes a partir da coluna model_id\n",
    "df_merge = merge_dataframes(df_hyperparameters, df_final_metrics)\n",
    "df_merge"
   ]
  },
  {
   "cell_type": "code",
   "execution_count": 20,
   "id": "ce6dae29",
   "metadata": {
    "hidden": true
   },
   "outputs": [],
   "source": [
    "# converter para tabela latex\n",
    "#df_merge[['AP', 'AP50', 'AP75']].to_latex('testA.txt', index=False)"
   ]
  },
  {
   "cell_type": "markdown",
   "id": "8ff8c754",
   "metadata": {
    "hidden": true
   },
   "source": [
    "## Metrics per Class"
   ]
  },
  {
   "cell_type": "markdown",
   "id": "15a69157",
   "metadata": {
    "hidden": true
   },
   "source": [
    "Apresentação dos resultados por classe para o quinto modelo (melhor mAP)."
   ]
  },
  {
   "cell_type": "code",
   "execution_count": 8,
   "id": "4c1a803a",
   "metadata": {
    "hidden": true
   },
   "outputs": [
    {
     "data": {
      "text/html": [
       "<div>\n",
       "<style scoped>\n",
       "    .dataframe tbody tr th:only-of-type {\n",
       "        vertical-align: middle;\n",
       "    }\n",
       "\n",
       "    .dataframe tbody tr th {\n",
       "        vertical-align: top;\n",
       "    }\n",
       "\n",
       "    .dataframe thead th {\n",
       "        text-align: right;\n",
       "    }\n",
       "</style>\n",
       "<table border=\"1\" class=\"dataframe\">\n",
       "  <thead>\n",
       "    <tr style=\"text-align: right;\">\n",
       "      <th></th>\n",
       "      <th></th>\n",
       "      <th>precision</th>\n",
       "      <th>recall</th>\n",
       "      <th>TP</th>\n",
       "      <th>FP</th>\n",
       "      <th>FN</th>\n",
       "    </tr>\n",
       "  </thead>\n",
       "  <tbody>\n",
       "    <tr>\n",
       "      <th>0</th>\n",
       "      <td>canario_do_amazonas</td>\n",
       "      <td>0.8750</td>\n",
       "      <td>0.9655</td>\n",
       "      <td>56</td>\n",
       "      <td>8</td>\n",
       "      <td>2</td>\n",
       "    </tr>\n",
       "    <tr>\n",
       "      <th>1</th>\n",
       "      <td>chupim</td>\n",
       "      <td>0.9500</td>\n",
       "      <td>0.9744</td>\n",
       "      <td>38</td>\n",
       "      <td>2</td>\n",
       "      <td>1</td>\n",
       "    </tr>\n",
       "    <tr>\n",
       "      <th>2</th>\n",
       "      <td>rolinha</td>\n",
       "      <td>0.8966</td>\n",
       "      <td>0.9630</td>\n",
       "      <td>26</td>\n",
       "      <td>3</td>\n",
       "      <td>1</td>\n",
       "    </tr>\n",
       "    <tr>\n",
       "      <th>3</th>\n",
       "      <td>sanhaco_da_amazonia</td>\n",
       "      <td>0.9200</td>\n",
       "      <td>1.0000</td>\n",
       "      <td>23</td>\n",
       "      <td>2</td>\n",
       "      <td>0</td>\n",
       "    </tr>\n",
       "    <tr>\n",
       "      <th>4</th>\n",
       "      <td>sanhaco_do_coqueiro</td>\n",
       "      <td>0.8800</td>\n",
       "      <td>0.8800</td>\n",
       "      <td>22</td>\n",
       "      <td>3</td>\n",
       "      <td>3</td>\n",
       "    </tr>\n",
       "  </tbody>\n",
       "</table>\n",
       "</div>"
      ],
      "text/plain": [
       "                        precision  recall  TP  FP  FN\n",
       "0  canario_do_amazonas     0.8750  0.9655  56   8   2\n",
       "1               chupim     0.9500  0.9744  38   2   1\n",
       "2              rolinha     0.8966  0.9630  26   3   1\n",
       "3  sanhaco_da_amazonia     0.9200  1.0000  23   2   0\n",
       "4  sanhaco_do_coqueiro     0.8800  0.8800  22   3   3"
      ]
     },
     "execution_count": 8,
     "metadata": {},
     "output_type": "execute_result"
    }
   ],
   "source": [
    "path = '../faster_rcnn/backbone_selection/model_4/metrics_per_class.csv'\n",
    "df_metrics_per_class, df_stats = make_metrics_per_class_df(path)\n",
    "df_metrics_per_class"
   ]
  },
  {
   "cell_type": "code",
   "execution_count": 9,
   "id": "1125031e",
   "metadata": {
    "hidden": true
   },
   "outputs": [
    {
     "data": {
      "text/html": [
       "<div>\n",
       "<style scoped>\n",
       "    .dataframe tbody tr th:only-of-type {\n",
       "        vertical-align: middle;\n",
       "    }\n",
       "\n",
       "    .dataframe tbody tr th {\n",
       "        vertical-align: top;\n",
       "    }\n",
       "\n",
       "    .dataframe thead th {\n",
       "        text-align: right;\n",
       "    }\n",
       "</style>\n",
       "<table border=\"1\" class=\"dataframe\">\n",
       "  <thead>\n",
       "    <tr style=\"text-align: right;\">\n",
       "      <th></th>\n",
       "      <th>mean_precision</th>\n",
       "      <th>mean_recall</th>\n",
       "      <th>total_tp</th>\n",
       "      <th>total_fp</th>\n",
       "      <th>total_fn</th>\n",
       "    </tr>\n",
       "  </thead>\n",
       "  <tbody>\n",
       "    <tr>\n",
       "      <th>0</th>\n",
       "      <td>0.9043</td>\n",
       "      <td>0.9566</td>\n",
       "      <td>165</td>\n",
       "      <td>18</td>\n",
       "      <td>7</td>\n",
       "    </tr>\n",
       "  </tbody>\n",
       "</table>\n",
       "</div>"
      ],
      "text/plain": [
       "   mean_precision  mean_recall  total_tp  total_fp  total_fn\n",
       "0          0.9043       0.9566       165        18         7"
      ]
     },
     "execution_count": 9,
     "metadata": {},
     "output_type": "execute_result"
    }
   ],
   "source": [
    "df_stats"
   ]
  },
  {
   "cell_type": "markdown",
   "id": "59414a5f",
   "metadata": {
    "heading_collapsed": true
   },
   "source": [
    "# Hyperparameters Tuning"
   ]
  },
  {
   "cell_type": "markdown",
   "id": "f9197be5",
   "metadata": {
    "hidden": true
   },
   "source": [
    "Apresentação dos resultados encontrados na fase de ajuste de hiperparâmetros. "
   ]
  },
  {
   "cell_type": "code",
   "execution_count": 19,
   "id": "bce117ff",
   "metadata": {
    "hidden": true
   },
   "outputs": [
    {
     "data": {
      "text/html": [
       "<div>\n",
       "<style scoped>\n",
       "    .dataframe tbody tr th:only-of-type {\n",
       "        vertical-align: middle;\n",
       "    }\n",
       "\n",
       "    .dataframe tbody tr th {\n",
       "        vertical-align: top;\n",
       "    }\n",
       "\n",
       "    .dataframe thead th {\n",
       "        text-align: right;\n",
       "    }\n",
       "</style>\n",
       "<table border=\"1\" class=\"dataframe\">\n",
       "  <thead>\n",
       "    <tr style=\"text-align: right;\">\n",
       "      <th></th>\n",
       "      <th>model_id</th>\n",
       "      <th>model_type</th>\n",
       "      <th>backbone_type</th>\n",
       "      <th>batch_size</th>\n",
       "      <th>learning_rate</th>\n",
       "      <th>num_epochs</th>\n",
       "      <th>train_shuffle</th>\n",
       "      <th>image_size</th>\n",
       "      <th>presize</th>\n",
       "      <th>AP</th>\n",
       "      <th>AP50</th>\n",
       "      <th>AP75</th>\n",
       "      <th>TP</th>\n",
       "      <th>FP</th>\n",
       "      <th>FN</th>\n",
       "    </tr>\n",
       "  </thead>\n",
       "  <tbody>\n",
       "    <tr>\n",
       "      <th>0</th>\n",
       "      <td>0</td>\n",
       "      <td>mmdet.faster_rcnn</td>\n",
       "      <td>resnext101_32x4d_fpn_1x</td>\n",
       "      <td>1.0000</td>\n",
       "      <td>0.0001</td>\n",
       "      <td>30.0000</td>\n",
       "      <td>False</td>\n",
       "      <td>512.0000</td>\n",
       "      <td>NaN</td>\n",
       "      <td>0.6904</td>\n",
       "      <td>0.9241</td>\n",
       "      <td>0.8274</td>\n",
       "      <td>162</td>\n",
       "      <td>15</td>\n",
       "      <td>10</td>\n",
       "    </tr>\n",
       "    <tr>\n",
       "      <th>1</th>\n",
       "      <td>1</td>\n",
       "      <td>mmdet.faster_rcnn</td>\n",
       "      <td>resnext101_32x4d_fpn_1x</td>\n",
       "      <td>1.0000</td>\n",
       "      <td>0.0001</td>\n",
       "      <td>20.0000</td>\n",
       "      <td>True</td>\n",
       "      <td>512.0000</td>\n",
       "      <td>NaN</td>\n",
       "      <td>0.6799</td>\n",
       "      <td>0.9162</td>\n",
       "      <td>0.8278</td>\n",
       "      <td>161</td>\n",
       "      <td>22</td>\n",
       "      <td>11</td>\n",
       "    </tr>\n",
       "    <tr>\n",
       "      <th>2</th>\n",
       "      <td>2</td>\n",
       "      <td>mmdet.faster_rcnn</td>\n",
       "      <td>resnext101_32x4d_fpn_1x</td>\n",
       "      <td>1.0000</td>\n",
       "      <td>0.0001</td>\n",
       "      <td>30.0000</td>\n",
       "      <td>True</td>\n",
       "      <td>512.0000</td>\n",
       "      <td>NaN</td>\n",
       "      <td>0.7111</td>\n",
       "      <td>0.9412</td>\n",
       "      <td>0.8678</td>\n",
       "      <td>164</td>\n",
       "      <td>18</td>\n",
       "      <td>8</td>\n",
       "    </tr>\n",
       "    <tr>\n",
       "      <th>3</th>\n",
       "      <td>3</td>\n",
       "      <td>mmdet.faster_rcnn</td>\n",
       "      <td>resnext101_32x4d_fpn_1x</td>\n",
       "      <td>4.0000</td>\n",
       "      <td>0.0001</td>\n",
       "      <td>20.0000</td>\n",
       "      <td>False</td>\n",
       "      <td>512.0000</td>\n",
       "      <td>NaN</td>\n",
       "      <td>0.5635</td>\n",
       "      <td>0.7973</td>\n",
       "      <td>0.7058</td>\n",
       "      <td>147</td>\n",
       "      <td>39</td>\n",
       "      <td>25</td>\n",
       "    </tr>\n",
       "    <tr>\n",
       "      <th>4</th>\n",
       "      <td>4</td>\n",
       "      <td>mmdet.faster_rcnn</td>\n",
       "      <td>resnext101_32x4d_fpn_1x</td>\n",
       "      <td>1.0000</td>\n",
       "      <td>0.0100</td>\n",
       "      <td>20.0000</td>\n",
       "      <td>False</td>\n",
       "      <td>512.0000</td>\n",
       "      <td>NaN</td>\n",
       "      <td>0.0000</td>\n",
       "      <td>0.0000</td>\n",
       "      <td>0.0000</td>\n",
       "      <td>0</td>\n",
       "      <td>0</td>\n",
       "      <td>172</td>\n",
       "    </tr>\n",
       "    <tr>\n",
       "      <th>5</th>\n",
       "      <td>5</td>\n",
       "      <td>mmdet.faster_rcnn</td>\n",
       "      <td>resnext101_32x4d_fpn_1x</td>\n",
       "      <td>1.0000</td>\n",
       "      <td>0.0010</td>\n",
       "      <td>20.0000</td>\n",
       "      <td>False</td>\n",
       "      <td>512.0000</td>\n",
       "      <td>NaN</td>\n",
       "      <td>0.7122</td>\n",
       "      <td>0.9377</td>\n",
       "      <td>0.8788</td>\n",
       "      <td>164</td>\n",
       "      <td>21</td>\n",
       "      <td>8</td>\n",
       "    </tr>\n",
       "    <tr>\n",
       "      <th>6</th>\n",
       "      <td>6</td>\n",
       "      <td>mmdet.faster_rcnn</td>\n",
       "      <td>resnext101_32x4d_fpn_1x</td>\n",
       "      <td>1.0000</td>\n",
       "      <td>0.0000</td>\n",
       "      <td>20.0000</td>\n",
       "      <td>False</td>\n",
       "      <td>512.0000</td>\n",
       "      <td>NaN</td>\n",
       "      <td>0.2433</td>\n",
       "      <td>0.4029</td>\n",
       "      <td>0.2485</td>\n",
       "      <td>85</td>\n",
       "      <td>31</td>\n",
       "      <td>87</td>\n",
       "    </tr>\n",
       "    <tr>\n",
       "      <th>7</th>\n",
       "      <td>7</td>\n",
       "      <td>mmdet.faster_rcnn</td>\n",
       "      <td>resnext101_32x4d_fpn_1x</td>\n",
       "      <td>1.0000</td>\n",
       "      <td>0.0001</td>\n",
       "      <td>20.0000</td>\n",
       "      <td>False</td>\n",
       "      <td>640.0000</td>\n",
       "      <td>NaN</td>\n",
       "      <td>0.7078</td>\n",
       "      <td>0.9258</td>\n",
       "      <td>0.8594</td>\n",
       "      <td>164</td>\n",
       "      <td>24</td>\n",
       "      <td>8</td>\n",
       "    </tr>\n",
       "    <tr>\n",
       "      <th>8</th>\n",
       "      <td>8</td>\n",
       "      <td>mmdet.faster_rcnn</td>\n",
       "      <td>resnext101_32x4d_fpn_1x</td>\n",
       "      <td>1.0000</td>\n",
       "      <td>0.0001</td>\n",
       "      <td>20.0000</td>\n",
       "      <td>False</td>\n",
       "      <td>768.0000</td>\n",
       "      <td>NaN</td>\n",
       "      <td>0.7164</td>\n",
       "      <td>0.9325</td>\n",
       "      <td>0.8585</td>\n",
       "      <td>164</td>\n",
       "      <td>17</td>\n",
       "      <td>8</td>\n",
       "    </tr>\n",
       "    <tr>\n",
       "      <th>9</th>\n",
       "      <td>9</td>\n",
       "      <td>mmdet.faster_rcnn</td>\n",
       "      <td>resnext101_32x4d_fpn_1x</td>\n",
       "      <td>1.0000</td>\n",
       "      <td>0.0001</td>\n",
       "      <td>20.0000</td>\n",
       "      <td>False</td>\n",
       "      <td>896</td>\n",
       "      <td>NaN</td>\n",
       "      <td>0.7605</td>\n",
       "      <td>0.9434</td>\n",
       "      <td>0.8902</td>\n",
       "      <td>166</td>\n",
       "      <td>22</td>\n",
       "      <td>6</td>\n",
       "    </tr>\n",
       "    <tr>\n",
       "      <th>10</th>\n",
       "      <td>10</td>\n",
       "      <td>mmdet.faster_rcnn</td>\n",
       "      <td>resnext101_32x4d_fpn_1x</td>\n",
       "      <td>1.0000</td>\n",
       "      <td>0.0001</td>\n",
       "      <td>20.0000</td>\n",
       "      <td>False</td>\n",
       "      <td>(1280, 720)</td>\n",
       "      <td>NaN</td>\n",
       "      <td>0.5290</td>\n",
       "      <td>0.6904</td>\n",
       "      <td>0.6414</td>\n",
       "      <td>133</td>\n",
       "      <td>48</td>\n",
       "      <td>39</td>\n",
       "    </tr>\n",
       "    <tr>\n",
       "      <th>11</th>\n",
       "      <td>11</td>\n",
       "      <td>mmdet.faster_rcnn</td>\n",
       "      <td>resnext101_32x4d_fpn_1x</td>\n",
       "      <td>1.0000</td>\n",
       "      <td>0.0001</td>\n",
       "      <td>20.0000</td>\n",
       "      <td>False</td>\n",
       "      <td>512</td>\n",
       "      <td>640.0000</td>\n",
       "      <td>0.6969</td>\n",
       "      <td>0.9275</td>\n",
       "      <td>0.8587</td>\n",
       "      <td>163</td>\n",
       "      <td>19</td>\n",
       "      <td>9</td>\n",
       "    </tr>\n",
       "    <tr>\n",
       "      <th>12</th>\n",
       "      <td>12</td>\n",
       "      <td>mmdet.faster_rcnn</td>\n",
       "      <td>resnext101_32x4d_fpn_1x</td>\n",
       "      <td>1.0000</td>\n",
       "      <td>0.0001</td>\n",
       "      <td>20.0000</td>\n",
       "      <td>False</td>\n",
       "      <td>640</td>\n",
       "      <td>768.0000</td>\n",
       "      <td>0.7043</td>\n",
       "      <td>0.9134</td>\n",
       "      <td>0.8667</td>\n",
       "      <td>163</td>\n",
       "      <td>20</td>\n",
       "      <td>9</td>\n",
       "    </tr>\n",
       "    <tr>\n",
       "      <th>13</th>\n",
       "      <td>13</td>\n",
       "      <td>mmdet.faster_rcnn</td>\n",
       "      <td>resnext101_32x4d_fpn_1x</td>\n",
       "      <td>1.0000</td>\n",
       "      <td>0.0001</td>\n",
       "      <td>20.0000</td>\n",
       "      <td>False</td>\n",
       "      <td>768</td>\n",
       "      <td>896.0000</td>\n",
       "      <td>0.7405</td>\n",
       "      <td>0.9452</td>\n",
       "      <td>0.9019</td>\n",
       "      <td>166</td>\n",
       "      <td>23</td>\n",
       "      <td>6</td>\n",
       "    </tr>\n",
       "    <tr>\n",
       "      <th>14</th>\n",
       "      <td>14</td>\n",
       "      <td>mmdet.faster_rcnn</td>\n",
       "      <td>resnext101_32x4d_fpn_1x</td>\n",
       "      <td>1.0000</td>\n",
       "      <td>0.0001</td>\n",
       "      <td>20.0000</td>\n",
       "      <td>False</td>\n",
       "      <td>896</td>\n",
       "      <td>1,024.0000</td>\n",
       "      <td>0.7529</td>\n",
       "      <td>0.9459</td>\n",
       "      <td>0.8851</td>\n",
       "      <td>165</td>\n",
       "      <td>17</td>\n",
       "      <td>7</td>\n",
       "    </tr>\n",
       "  </tbody>\n",
       "</table>\n",
       "</div>"
      ],
      "text/plain": [
       "    model_id         model_type            backbone_type  batch_size  \\\n",
       "0          0  mmdet.faster_rcnn  resnext101_32x4d_fpn_1x      1.0000   \n",
       "1          1  mmdet.faster_rcnn  resnext101_32x4d_fpn_1x      1.0000   \n",
       "2          2  mmdet.faster_rcnn  resnext101_32x4d_fpn_1x      1.0000   \n",
       "3          3  mmdet.faster_rcnn  resnext101_32x4d_fpn_1x      4.0000   \n",
       "4          4  mmdet.faster_rcnn  resnext101_32x4d_fpn_1x      1.0000   \n",
       "5          5  mmdet.faster_rcnn  resnext101_32x4d_fpn_1x      1.0000   \n",
       "6          6  mmdet.faster_rcnn  resnext101_32x4d_fpn_1x      1.0000   \n",
       "7          7  mmdet.faster_rcnn  resnext101_32x4d_fpn_1x      1.0000   \n",
       "8          8  mmdet.faster_rcnn  resnext101_32x4d_fpn_1x      1.0000   \n",
       "9          9  mmdet.faster_rcnn  resnext101_32x4d_fpn_1x      1.0000   \n",
       "10        10  mmdet.faster_rcnn  resnext101_32x4d_fpn_1x      1.0000   \n",
       "11        11  mmdet.faster_rcnn  resnext101_32x4d_fpn_1x      1.0000   \n",
       "12        12  mmdet.faster_rcnn  resnext101_32x4d_fpn_1x      1.0000   \n",
       "13        13  mmdet.faster_rcnn  resnext101_32x4d_fpn_1x      1.0000   \n",
       "14        14  mmdet.faster_rcnn  resnext101_32x4d_fpn_1x      1.0000   \n",
       "\n",
       "    learning_rate  num_epochs  train_shuffle   image_size    presize     AP  \\\n",
       "0          0.0001     30.0000          False     512.0000        NaN 0.6904   \n",
       "1          0.0001     20.0000           True     512.0000        NaN 0.6799   \n",
       "2          0.0001     30.0000           True     512.0000        NaN 0.7111   \n",
       "3          0.0001     20.0000          False     512.0000        NaN 0.5635   \n",
       "4          0.0100     20.0000          False     512.0000        NaN 0.0000   \n",
       "5          0.0010     20.0000          False     512.0000        NaN 0.7122   \n",
       "6          0.0000     20.0000          False     512.0000        NaN 0.2433   \n",
       "7          0.0001     20.0000          False     640.0000        NaN 0.7078   \n",
       "8          0.0001     20.0000          False     768.0000        NaN 0.7164   \n",
       "9          0.0001     20.0000          False          896        NaN 0.7605   \n",
       "10         0.0001     20.0000          False  (1280, 720)        NaN 0.5290   \n",
       "11         0.0001     20.0000          False          512   640.0000 0.6969   \n",
       "12         0.0001     20.0000          False          640   768.0000 0.7043   \n",
       "13         0.0001     20.0000          False          768   896.0000 0.7405   \n",
       "14         0.0001     20.0000          False          896 1,024.0000 0.7529   \n",
       "\n",
       "     AP50   AP75   TP  FP   FN  \n",
       "0  0.9241 0.8274  162  15   10  \n",
       "1  0.9162 0.8278  161  22   11  \n",
       "2  0.9412 0.8678  164  18    8  \n",
       "3  0.7973 0.7058  147  39   25  \n",
       "4  0.0000 0.0000    0   0  172  \n",
       "5  0.9377 0.8788  164  21    8  \n",
       "6  0.4029 0.2485   85  31   87  \n",
       "7  0.9258 0.8594  164  24    8  \n",
       "8  0.9325 0.8585  164  17    8  \n",
       "9  0.9434 0.8902  166  22    6  \n",
       "10 0.6904 0.6414  133  48   39  \n",
       "11 0.9275 0.8587  163  19    9  \n",
       "12 0.9134 0.8667  163  20    9  \n",
       "13 0.9452 0.9019  166  23    6  \n",
       "14 0.9459 0.8851  165  17    7  "
      ]
     },
     "execution_count": 19,
     "metadata": {},
     "output_type": "execute_result"
    }
   ],
   "source": [
    "# caminho base para a pasta contendo os modelos treinados na fase de ajuste de hiperparâmetros\n",
    "base_path = '../faster_rcnn/hyperparameter_tuning/'\n",
    "\n",
    "# especifica os caminhos dos arquivos csv contendo os hiperparâmetros do treinamento, bem como as métricas alcançadas\n",
    "csv_hyperparameters_pathes = [base_path+folder+'/hyperparameters.csv' for folder in os.listdir(base_path)]\n",
    "csv_final_metrics_pathes = [base_path+folder+'/final_metrics.csv' for folder in os.listdir(base_path)]\n",
    "\n",
    "# cria os dataframes de hiperparâmetros e de métricas finais\n",
    "df_hyperparameters = get_hyperparameters(csv_hyperparameters_pathes)\n",
    "df_final_metrics = get_final_metrics(csv_final_metrics_pathes)\n",
    "\n",
    "# une os dataframes a partir da coluna model_id\n",
    "df_merge = merge_dataframes(df_hyperparameters, df_final_metrics)\n",
    "df_merge"
   ]
  },
  {
   "cell_type": "markdown",
   "id": "f90a1ef4",
   "metadata": {
    "hidden": true
   },
   "source": [
    "A presentação dos resultados encontrados no primeiro teste (ajuste do número de epochs e de embaralhamento do conjunto de treinamento)."
   ]
  },
  {
   "cell_type": "code",
   "execution_count": 20,
   "id": "0e4f3a53",
   "metadata": {
    "hidden": true
   },
   "outputs": [
    {
     "data": {
      "text/html": [
       "<div>\n",
       "<style scoped>\n",
       "    .dataframe tbody tr th:only-of-type {\n",
       "        vertical-align: middle;\n",
       "    }\n",
       "\n",
       "    .dataframe tbody tr th {\n",
       "        vertical-align: top;\n",
       "    }\n",
       "\n",
       "    .dataframe thead th {\n",
       "        text-align: right;\n",
       "    }\n",
       "</style>\n",
       "<table border=\"1\" class=\"dataframe\">\n",
       "  <thead>\n",
       "    <tr style=\"text-align: right;\">\n",
       "      <th></th>\n",
       "      <th>num_epochs</th>\n",
       "      <th>train_shuffle</th>\n",
       "      <th>AP</th>\n",
       "      <th>AP50</th>\n",
       "      <th>AP75</th>\n",
       "    </tr>\n",
       "  </thead>\n",
       "  <tbody>\n",
       "    <tr>\n",
       "      <th>0</th>\n",
       "      <td>30.0000</td>\n",
       "      <td>False</td>\n",
       "      <td>0.6904</td>\n",
       "      <td>0.9241</td>\n",
       "      <td>0.8274</td>\n",
       "    </tr>\n",
       "    <tr>\n",
       "      <th>1</th>\n",
       "      <td>20.0000</td>\n",
       "      <td>True</td>\n",
       "      <td>0.6799</td>\n",
       "      <td>0.9162</td>\n",
       "      <td>0.8278</td>\n",
       "    </tr>\n",
       "    <tr>\n",
       "      <th>2</th>\n",
       "      <td>30.0000</td>\n",
       "      <td>True</td>\n",
       "      <td>0.7111</td>\n",
       "      <td>0.9412</td>\n",
       "      <td>0.8678</td>\n",
       "    </tr>\n",
       "  </tbody>\n",
       "</table>\n",
       "</div>"
      ],
      "text/plain": [
       "   num_epochs  train_shuffle     AP   AP50   AP75\n",
       "0     30.0000          False 0.6904 0.9241 0.8274\n",
       "1     20.0000           True 0.6799 0.9162 0.8278\n",
       "2     30.0000           True 0.7111 0.9412 0.8678"
      ]
     },
     "execution_count": 20,
     "metadata": {},
     "output_type": "execute_result"
    }
   ],
   "source": [
    "df_merge[['num_epochs','train_shuffle','AP','AP50','AP75']][0:3]"
   ]
  },
  {
   "cell_type": "markdown",
   "id": "dde8f015",
   "metadata": {
    "hidden": true
   },
   "source": [
    "A presentação dos resultados encontrados no segundo teste (ajuste no tamanho do batch)."
   ]
  },
  {
   "cell_type": "code",
   "execution_count": 21,
   "id": "44bb853b",
   "metadata": {
    "hidden": true,
    "scrolled": true
   },
   "outputs": [
    {
     "data": {
      "text/plain": [
       "batch_size   4.0000\n",
       "AP           0.5635\n",
       "AP50         0.7973\n",
       "AP75         0.7058\n",
       "Name: 3, dtype: float64"
      ]
     },
     "execution_count": 21,
     "metadata": {},
     "output_type": "execute_result"
    }
   ],
   "source": [
    "df_merge[['batch_size','AP','AP50','AP75']].loc[3]"
   ]
  },
  {
   "cell_type": "markdown",
   "id": "bc4337a2",
   "metadata": {
    "hidden": true
   },
   "source": [
    "A presentação dos resultados encontrados no terceiro teste (ajuste na taxa de aprendizagem)."
   ]
  },
  {
   "cell_type": "code",
   "execution_count": 22,
   "id": "689f9427",
   "metadata": {
    "hidden": true
   },
   "outputs": [
    {
     "data": {
      "text/html": [
       "<div>\n",
       "<style scoped>\n",
       "    .dataframe tbody tr th:only-of-type {\n",
       "        vertical-align: middle;\n",
       "    }\n",
       "\n",
       "    .dataframe tbody tr th {\n",
       "        vertical-align: top;\n",
       "    }\n",
       "\n",
       "    .dataframe thead th {\n",
       "        text-align: right;\n",
       "    }\n",
       "</style>\n",
       "<table border=\"1\" class=\"dataframe\">\n",
       "  <thead>\n",
       "    <tr style=\"text-align: right;\">\n",
       "      <th></th>\n",
       "      <th>learning_rate</th>\n",
       "      <th>AP</th>\n",
       "      <th>AP50</th>\n",
       "      <th>AP75</th>\n",
       "    </tr>\n",
       "  </thead>\n",
       "  <tbody>\n",
       "    <tr>\n",
       "      <th>4</th>\n",
       "      <td>0.0100</td>\n",
       "      <td>0.0000</td>\n",
       "      <td>0.0000</td>\n",
       "      <td>0.0000</td>\n",
       "    </tr>\n",
       "    <tr>\n",
       "      <th>5</th>\n",
       "      <td>0.0010</td>\n",
       "      <td>0.7122</td>\n",
       "      <td>0.9377</td>\n",
       "      <td>0.8788</td>\n",
       "    </tr>\n",
       "    <tr>\n",
       "      <th>6</th>\n",
       "      <td>0.0000</td>\n",
       "      <td>0.2433</td>\n",
       "      <td>0.4029</td>\n",
       "      <td>0.2485</td>\n",
       "    </tr>\n",
       "  </tbody>\n",
       "</table>\n",
       "</div>"
      ],
      "text/plain": [
       "   learning_rate     AP   AP50   AP75\n",
       "4         0.0100 0.0000 0.0000 0.0000\n",
       "5         0.0010 0.7122 0.9377 0.8788\n",
       "6         0.0000 0.2433 0.4029 0.2485"
      ]
     },
     "execution_count": 22,
     "metadata": {},
     "output_type": "execute_result"
    }
   ],
   "source": [
    "df_merge[['learning_rate','AP','AP50','AP75']][4:7]"
   ]
  },
  {
   "cell_type": "markdown",
   "id": "5252fb10",
   "metadata": {
    "hidden": true
   },
   "source": [
    "A presentação dos resultados encontrados no quarto teste (ajuste no tamanho da imagem)."
   ]
  },
  {
   "cell_type": "code",
   "execution_count": 23,
   "id": "ea27c080",
   "metadata": {
    "hidden": true
   },
   "outputs": [
    {
     "data": {
      "text/html": [
       "<div>\n",
       "<style scoped>\n",
       "    .dataframe tbody tr th:only-of-type {\n",
       "        vertical-align: middle;\n",
       "    }\n",
       "\n",
       "    .dataframe tbody tr th {\n",
       "        vertical-align: top;\n",
       "    }\n",
       "\n",
       "    .dataframe thead th {\n",
       "        text-align: right;\n",
       "    }\n",
       "</style>\n",
       "<table border=\"1\" class=\"dataframe\">\n",
       "  <thead>\n",
       "    <tr style=\"text-align: right;\">\n",
       "      <th></th>\n",
       "      <th>image_size</th>\n",
       "      <th>AP</th>\n",
       "      <th>AP50</th>\n",
       "      <th>AP75</th>\n",
       "    </tr>\n",
       "  </thead>\n",
       "  <tbody>\n",
       "    <tr>\n",
       "      <th>7</th>\n",
       "      <td>640.0000</td>\n",
       "      <td>0.7078</td>\n",
       "      <td>0.9258</td>\n",
       "      <td>0.8594</td>\n",
       "    </tr>\n",
       "    <tr>\n",
       "      <th>8</th>\n",
       "      <td>768.0000</td>\n",
       "      <td>0.7164</td>\n",
       "      <td>0.9325</td>\n",
       "      <td>0.8585</td>\n",
       "    </tr>\n",
       "    <tr>\n",
       "      <th>9</th>\n",
       "      <td>896</td>\n",
       "      <td>0.7605</td>\n",
       "      <td>0.9434</td>\n",
       "      <td>0.8902</td>\n",
       "    </tr>\n",
       "    <tr>\n",
       "      <th>10</th>\n",
       "      <td>(1280, 720)</td>\n",
       "      <td>0.5290</td>\n",
       "      <td>0.6904</td>\n",
       "      <td>0.6414</td>\n",
       "    </tr>\n",
       "  </tbody>\n",
       "</table>\n",
       "</div>"
      ],
      "text/plain": [
       "     image_size     AP   AP50   AP75\n",
       "7      640.0000 0.7078 0.9258 0.8594\n",
       "8      768.0000 0.7164 0.9325 0.8585\n",
       "9           896 0.7605 0.9434 0.8902\n",
       "10  (1280, 720) 0.5290 0.6904 0.6414"
      ]
     },
     "execution_count": 23,
     "metadata": {},
     "output_type": "execute_result"
    }
   ],
   "source": [
    "df_merge[['image_size','AP','AP50','AP75']][7:11]"
   ]
  },
  {
   "cell_type": "markdown",
   "id": "10bb4169",
   "metadata": {
    "hidden": true
   },
   "source": [
    "A presentação dos resultados encontrados no quinto teste (ajuste no tamanho do presizing)."
   ]
  },
  {
   "cell_type": "code",
   "execution_count": 24,
   "id": "772b023a",
   "metadata": {
    "hidden": true
   },
   "outputs": [
    {
     "data": {
      "text/html": [
       "<div>\n",
       "<style scoped>\n",
       "    .dataframe tbody tr th:only-of-type {\n",
       "        vertical-align: middle;\n",
       "    }\n",
       "\n",
       "    .dataframe tbody tr th {\n",
       "        vertical-align: top;\n",
       "    }\n",
       "\n",
       "    .dataframe thead th {\n",
       "        text-align: right;\n",
       "    }\n",
       "</style>\n",
       "<table border=\"1\" class=\"dataframe\">\n",
       "  <thead>\n",
       "    <tr style=\"text-align: right;\">\n",
       "      <th></th>\n",
       "      <th>image_size</th>\n",
       "      <th>presize</th>\n",
       "      <th>AP</th>\n",
       "      <th>AP50</th>\n",
       "      <th>AP75</th>\n",
       "    </tr>\n",
       "  </thead>\n",
       "  <tbody>\n",
       "    <tr>\n",
       "      <th>11</th>\n",
       "      <td>512</td>\n",
       "      <td>640.0000</td>\n",
       "      <td>0.6969</td>\n",
       "      <td>0.9275</td>\n",
       "      <td>0.8587</td>\n",
       "    </tr>\n",
       "    <tr>\n",
       "      <th>12</th>\n",
       "      <td>640</td>\n",
       "      <td>768.0000</td>\n",
       "      <td>0.7043</td>\n",
       "      <td>0.9134</td>\n",
       "      <td>0.8667</td>\n",
       "    </tr>\n",
       "    <tr>\n",
       "      <th>13</th>\n",
       "      <td>768</td>\n",
       "      <td>896.0000</td>\n",
       "      <td>0.7405</td>\n",
       "      <td>0.9452</td>\n",
       "      <td>0.9019</td>\n",
       "    </tr>\n",
       "    <tr>\n",
       "      <th>14</th>\n",
       "      <td>896</td>\n",
       "      <td>1,024.0000</td>\n",
       "      <td>0.7529</td>\n",
       "      <td>0.9459</td>\n",
       "      <td>0.8851</td>\n",
       "    </tr>\n",
       "  </tbody>\n",
       "</table>\n",
       "</div>"
      ],
      "text/plain": [
       "   image_size    presize     AP   AP50   AP75\n",
       "11        512   640.0000 0.6969 0.9275 0.8587\n",
       "12        640   768.0000 0.7043 0.9134 0.8667\n",
       "13        768   896.0000 0.7405 0.9452 0.9019\n",
       "14        896 1,024.0000 0.7529 0.9459 0.8851"
      ]
     },
     "execution_count": 24,
     "metadata": {},
     "output_type": "execute_result"
    }
   ],
   "source": [
    "df_merge[['image_size', 'presize', 'AP','AP50','AP75']][11:]"
   ]
  },
  {
   "cell_type": "markdown",
   "id": "9f0908a1",
   "metadata": {
    "hidden": true
   },
   "source": [
    "## Metrics per Class"
   ]
  },
  {
   "cell_type": "markdown",
   "id": "58eceb15",
   "metadata": {
    "hidden": true
   },
   "source": [
    "Apresentação dos resultados por classe para o décimo quinto modelo selecionado nesta fase."
   ]
  },
  {
   "cell_type": "code",
   "execution_count": 25,
   "id": "813da3b3",
   "metadata": {
    "hidden": true
   },
   "outputs": [
    {
     "data": {
      "text/html": [
       "<div>\n",
       "<style scoped>\n",
       "    .dataframe tbody tr th:only-of-type {\n",
       "        vertical-align: middle;\n",
       "    }\n",
       "\n",
       "    .dataframe tbody tr th {\n",
       "        vertical-align: top;\n",
       "    }\n",
       "\n",
       "    .dataframe thead th {\n",
       "        text-align: right;\n",
       "    }\n",
       "</style>\n",
       "<table border=\"1\" class=\"dataframe\">\n",
       "  <thead>\n",
       "    <tr style=\"text-align: right;\">\n",
       "      <th></th>\n",
       "      <th></th>\n",
       "      <th>precision</th>\n",
       "      <th>recall</th>\n",
       "      <th>TP</th>\n",
       "      <th>FP</th>\n",
       "      <th>FN</th>\n",
       "    </tr>\n",
       "  </thead>\n",
       "  <tbody>\n",
       "    <tr>\n",
       "      <th>0</th>\n",
       "      <td>canario_do_amazonas</td>\n",
       "      <td>0.9344</td>\n",
       "      <td>0.9828</td>\n",
       "      <td>57</td>\n",
       "      <td>4</td>\n",
       "      <td>1</td>\n",
       "    </tr>\n",
       "    <tr>\n",
       "      <th>1</th>\n",
       "      <td>chupim</td>\n",
       "      <td>0.9000</td>\n",
       "      <td>0.9231</td>\n",
       "      <td>36</td>\n",
       "      <td>4</td>\n",
       "      <td>3</td>\n",
       "    </tr>\n",
       "    <tr>\n",
       "      <th>2</th>\n",
       "      <td>rolinha</td>\n",
       "      <td>0.9643</td>\n",
       "      <td>1.0000</td>\n",
       "      <td>27</td>\n",
       "      <td>1</td>\n",
       "      <td>0</td>\n",
       "    </tr>\n",
       "    <tr>\n",
       "      <th>3</th>\n",
       "      <td>sanhaco_da_amazonia</td>\n",
       "      <td>0.8519</td>\n",
       "      <td>1.0000</td>\n",
       "      <td>23</td>\n",
       "      <td>4</td>\n",
       "      <td>0</td>\n",
       "    </tr>\n",
       "    <tr>\n",
       "      <th>4</th>\n",
       "      <td>sanhaco_do_coqueiro</td>\n",
       "      <td>0.8462</td>\n",
       "      <td>0.8800</td>\n",
       "      <td>22</td>\n",
       "      <td>4</td>\n",
       "      <td>3</td>\n",
       "    </tr>\n",
       "  </tbody>\n",
       "</table>\n",
       "</div>"
      ],
      "text/plain": [
       "                        precision  recall  TP  FP  FN\n",
       "0  canario_do_amazonas     0.9344  0.9828  57   4   1\n",
       "1               chupim     0.9000  0.9231  36   4   3\n",
       "2              rolinha     0.9643  1.0000  27   1   0\n",
       "3  sanhaco_da_amazonia     0.8519  1.0000  23   4   0\n",
       "4  sanhaco_do_coqueiro     0.8462  0.8800  22   4   3"
      ]
     },
     "execution_count": 25,
     "metadata": {},
     "output_type": "execute_result"
    }
   ],
   "source": [
    "path = '../faster_rcnn/hyperparameter_tuning/model_14/metrics_per_class.csv'\n",
    "df_metrics_per_class, df_stats = make_metrics_per_class_df(path)\n",
    "df_metrics_per_class"
   ]
  },
  {
   "cell_type": "code",
   "execution_count": 26,
   "id": "2a46d7b8",
   "metadata": {
    "hidden": true
   },
   "outputs": [
    {
     "data": {
      "text/html": [
       "<div>\n",
       "<style scoped>\n",
       "    .dataframe tbody tr th:only-of-type {\n",
       "        vertical-align: middle;\n",
       "    }\n",
       "\n",
       "    .dataframe tbody tr th {\n",
       "        vertical-align: top;\n",
       "    }\n",
       "\n",
       "    .dataframe thead th {\n",
       "        text-align: right;\n",
       "    }\n",
       "</style>\n",
       "<table border=\"1\" class=\"dataframe\">\n",
       "  <thead>\n",
       "    <tr style=\"text-align: right;\">\n",
       "      <th></th>\n",
       "      <th>mean_precision</th>\n",
       "      <th>mean_recall</th>\n",
       "      <th>total_tp</th>\n",
       "      <th>total_fp</th>\n",
       "      <th>total_fn</th>\n",
       "    </tr>\n",
       "  </thead>\n",
       "  <tbody>\n",
       "    <tr>\n",
       "      <th>0</th>\n",
       "      <td>0.8993</td>\n",
       "      <td>0.9572</td>\n",
       "      <td>165</td>\n",
       "      <td>17</td>\n",
       "      <td>7</td>\n",
       "    </tr>\n",
       "  </tbody>\n",
       "</table>\n",
       "</div>"
      ],
      "text/plain": [
       "   mean_precision  mean_recall  total_tp  total_fp  total_fn\n",
       "0          0.8993       0.9572       165        17         7"
      ]
     },
     "execution_count": 26,
     "metadata": {},
     "output_type": "execute_result"
    }
   ],
   "source": [
    "df_stats"
   ]
  },
  {
   "cell_type": "markdown",
   "id": "8469f17e",
   "metadata": {
    "heading_collapsed": true
   },
   "source": [
    "# Final Test"
   ]
  },
  {
   "cell_type": "markdown",
   "id": "817c8cbe",
   "metadata": {
    "hidden": true
   },
   "source": [
    "Apresentação dos resultados do modelo treinado com a base total de dados."
   ]
  },
  {
   "cell_type": "code",
   "execution_count": 27,
   "id": "269a7232",
   "metadata": {
    "hidden": true,
    "scrolled": true
   },
   "outputs": [
    {
     "data": {
      "text/html": [
       "<div>\n",
       "<style scoped>\n",
       "    .dataframe tbody tr th:only-of-type {\n",
       "        vertical-align: middle;\n",
       "    }\n",
       "\n",
       "    .dataframe tbody tr th {\n",
       "        vertical-align: top;\n",
       "    }\n",
       "\n",
       "    .dataframe thead th {\n",
       "        text-align: right;\n",
       "    }\n",
       "</style>\n",
       "<table border=\"1\" class=\"dataframe\">\n",
       "  <thead>\n",
       "    <tr style=\"text-align: right;\">\n",
       "      <th></th>\n",
       "      <th>model_id</th>\n",
       "      <th>model_type</th>\n",
       "      <th>backbone_type</th>\n",
       "      <th>batch_size</th>\n",
       "      <th>learning_rate</th>\n",
       "      <th>num_epochs</th>\n",
       "      <th>train_shuffle</th>\n",
       "      <th>image_size</th>\n",
       "      <th>presize</th>\n",
       "      <th>AP</th>\n",
       "      <th>AP50</th>\n",
       "      <th>AP75</th>\n",
       "      <th>TP</th>\n",
       "      <th>FP</th>\n",
       "      <th>FN</th>\n",
       "    </tr>\n",
       "  </thead>\n",
       "  <tbody>\n",
       "    <tr>\n",
       "      <th>0</th>\n",
       "      <td>0</td>\n",
       "      <td>mmdet.faster_rcnn</td>\n",
       "      <td>resnext101_32x4d_fpn_1x</td>\n",
       "      <td>1.0000</td>\n",
       "      <td>0.0001</td>\n",
       "      <td>20.0000</td>\n",
       "      <td>False</td>\n",
       "      <td>896</td>\n",
       "      <td>1024</td>\n",
       "      <td>0.8189</td>\n",
       "      <td>0.9833</td>\n",
       "      <td>0.9572</td>\n",
       "      <td>560</td>\n",
       "      <td>25</td>\n",
       "      <td>7</td>\n",
       "    </tr>\n",
       "  </tbody>\n",
       "</table>\n",
       "</div>"
      ],
      "text/plain": [
       "   model_id         model_type            backbone_type  batch_size  \\\n",
       "0         0  mmdet.faster_rcnn  resnext101_32x4d_fpn_1x      1.0000   \n",
       "\n",
       "   learning_rate  num_epochs  train_shuffle  image_size  presize     AP  \\\n",
       "0         0.0001     20.0000          False         896     1024 0.8189   \n",
       "\n",
       "    AP50   AP75   TP  FP  FN  \n",
       "0 0.9833 0.9572  560  25   7  "
      ]
     },
     "execution_count": 27,
     "metadata": {},
     "output_type": "execute_result"
    }
   ],
   "source": [
    "# caminho base para a pasta contendo os modelos treinados na fase de seleção da backbone\n",
    "base_path = '../faster_rcnn/final_test/'\n",
    "\n",
    "# especifica os caminhos dos arquivos csv contendo os hiperparâmetros do treinamento, bem como as métricas alcançadas\n",
    "csv_hyperparameters_pathes = [base_path+folder+'/hyperparameters.csv' for folder in os.listdir(base_path)]\n",
    "csv_final_metrics_pathes = [base_path+folder+'/final_metrics.csv' for folder in os.listdir(base_path)]\n",
    "\n",
    "# cria os dataframes de hiperparâmetros e de métricas finais\n",
    "df_hyperparameters = get_hyperparameters(csv_hyperparameters_pathes)\n",
    "df_final_metrics = get_final_metrics(csv_final_metrics_pathes)\n",
    "\n",
    "# une os dataframes a partir da coluna model_id\n",
    "df_merge = merge_dataframes(df_hyperparameters, df_final_metrics)\n",
    "df_merge"
   ]
  },
  {
   "cell_type": "markdown",
   "id": "0e50b562",
   "metadata": {
    "hidden": true
   },
   "source": [
    "## Metrics per Class"
   ]
  },
  {
   "cell_type": "markdown",
   "id": "90041cb3",
   "metadata": {
    "hidden": true
   },
   "source": [
    "Apresentação dos resultados do modelo definitivo para cada classe. "
   ]
  },
  {
   "cell_type": "code",
   "execution_count": 28,
   "id": "0b4f994a",
   "metadata": {
    "hidden": true
   },
   "outputs": [
    {
     "data": {
      "text/html": [
       "<div>\n",
       "<style scoped>\n",
       "    .dataframe tbody tr th:only-of-type {\n",
       "        vertical-align: middle;\n",
       "    }\n",
       "\n",
       "    .dataframe tbody tr th {\n",
       "        vertical-align: top;\n",
       "    }\n",
       "\n",
       "    .dataframe thead th {\n",
       "        text-align: right;\n",
       "    }\n",
       "</style>\n",
       "<table border=\"1\" class=\"dataframe\">\n",
       "  <thead>\n",
       "    <tr style=\"text-align: right;\">\n",
       "      <th></th>\n",
       "      <th></th>\n",
       "      <th>precision</th>\n",
       "      <th>recall</th>\n",
       "      <th>TP</th>\n",
       "      <th>FP</th>\n",
       "      <th>FN</th>\n",
       "    </tr>\n",
       "  </thead>\n",
       "  <tbody>\n",
       "    <tr>\n",
       "      <th>0</th>\n",
       "      <td>canario_do_amazonas</td>\n",
       "      <td>0.9515</td>\n",
       "      <td>0.9849</td>\n",
       "      <td>196</td>\n",
       "      <td>10</td>\n",
       "      <td>3</td>\n",
       "    </tr>\n",
       "    <tr>\n",
       "      <th>1</th>\n",
       "      <td>chupim</td>\n",
       "      <td>0.9725</td>\n",
       "      <td>1.0000</td>\n",
       "      <td>106</td>\n",
       "      <td>3</td>\n",
       "      <td>0</td>\n",
       "    </tr>\n",
       "    <tr>\n",
       "      <th>2</th>\n",
       "      <td>rolinha</td>\n",
       "      <td>0.9663</td>\n",
       "      <td>0.9773</td>\n",
       "      <td>86</td>\n",
       "      <td>3</td>\n",
       "      <td>2</td>\n",
       "    </tr>\n",
       "    <tr>\n",
       "      <th>3</th>\n",
       "      <td>sanhaco_da_amazonia</td>\n",
       "      <td>0.9877</td>\n",
       "      <td>1.0000</td>\n",
       "      <td>80</td>\n",
       "      <td>1</td>\n",
       "      <td>0</td>\n",
       "    </tr>\n",
       "    <tr>\n",
       "      <th>4</th>\n",
       "      <td>sanhaco_do_coqueiro</td>\n",
       "      <td>0.9200</td>\n",
       "      <td>0.9787</td>\n",
       "      <td>92</td>\n",
       "      <td>8</td>\n",
       "      <td>2</td>\n",
       "    </tr>\n",
       "  </tbody>\n",
       "</table>\n",
       "</div>"
      ],
      "text/plain": [
       "                        precision  recall   TP  FP  FN\n",
       "0  canario_do_amazonas     0.9515  0.9849  196  10   3\n",
       "1               chupim     0.9725  1.0000  106   3   0\n",
       "2              rolinha     0.9663  0.9773   86   3   2\n",
       "3  sanhaco_da_amazonia     0.9877  1.0000   80   1   0\n",
       "4  sanhaco_do_coqueiro     0.9200  0.9787   92   8   2"
      ]
     },
     "execution_count": 28,
     "metadata": {},
     "output_type": "execute_result"
    }
   ],
   "source": [
    "path = base_path = '../faster_rcnn/final_test/model_0/metrics_per_class.csv'\n",
    "df_metrics_per_class, df_stats = make_metrics_per_class_df(path)\n",
    "df_metrics_per_class"
   ]
  },
  {
   "cell_type": "code",
   "execution_count": 29,
   "id": "0073be03",
   "metadata": {
    "hidden": true,
    "scrolled": true
   },
   "outputs": [
    {
     "data": {
      "text/html": [
       "<div>\n",
       "<style scoped>\n",
       "    .dataframe tbody tr th:only-of-type {\n",
       "        vertical-align: middle;\n",
       "    }\n",
       "\n",
       "    .dataframe tbody tr th {\n",
       "        vertical-align: top;\n",
       "    }\n",
       "\n",
       "    .dataframe thead th {\n",
       "        text-align: right;\n",
       "    }\n",
       "</style>\n",
       "<table border=\"1\" class=\"dataframe\">\n",
       "  <thead>\n",
       "    <tr style=\"text-align: right;\">\n",
       "      <th></th>\n",
       "      <th>mean_precision</th>\n",
       "      <th>mean_recall</th>\n",
       "      <th>total_tp</th>\n",
       "      <th>total_fp</th>\n",
       "      <th>total_fn</th>\n",
       "    </tr>\n",
       "  </thead>\n",
       "  <tbody>\n",
       "    <tr>\n",
       "      <th>0</th>\n",
       "      <td>0.9596</td>\n",
       "      <td>0.9882</td>\n",
       "      <td>560</td>\n",
       "      <td>25</td>\n",
       "      <td>7</td>\n",
       "    </tr>\n",
       "  </tbody>\n",
       "</table>\n",
       "</div>"
      ],
      "text/plain": [
       "   mean_precision  mean_recall  total_tp  total_fp  total_fn\n",
       "0          0.9596       0.9882       560        25         7"
      ]
     },
     "execution_count": 29,
     "metadata": {},
     "output_type": "execute_result"
    }
   ],
   "source": [
    "df_stats"
   ]
  }
 ],
 "metadata": {
  "kernelspec": {
   "display_name": "Python 3 (ipykernel)",
   "language": "python",
   "name": "python3"
  },
  "language_info": {
   "codemirror_mode": {
    "name": "ipython",
    "version": 3
   },
   "file_extension": ".py",
   "mimetype": "text/x-python",
   "name": "python",
   "nbconvert_exporter": "python",
   "pygments_lexer": "ipython3",
   "version": "3.9.16"
  }
 },
 "nbformat": 4,
 "nbformat_minor": 5
}
