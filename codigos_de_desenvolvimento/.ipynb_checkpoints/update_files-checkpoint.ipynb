{
 "cells": [
  {
   "cell_type": "code",
   "execution_count": 1,
   "id": "2fa4920d",
   "metadata": {},
   "outputs": [
    {
     "name": "stderr",
     "output_type": "stream",
     "text": [
      "\u001b[1m\u001b[1mINFO    \u001b[0m\u001b[1m\u001b[0m - \u001b[1mThe mmdet config folder already exists. No need to downloaded it. Path : /home/lucaszampar/.icevision/mmdetection_configs/mmdetection_configs-2.20.1/configs\u001b[0m | \u001b[36micevision.models.mmdet.download_configs\u001b[0m:\u001b[36mdownload_mmdet_configs\u001b[0m:\u001b[36m17\u001b[0m\n"
     ]
    }
   ],
   "source": [
    "from project_utils.project_utils_fo import *"
   ]
  },
  {
   "cell_type": "code",
   "execution_count": 6,
   "id": "0148cc6d",
   "metadata": {},
   "outputs": [],
   "source": [
    "import pandas as pd\n",
    "import fiftyone as fo"
   ]
  },
  {
   "cell_type": "code",
   "execution_count": 36,
   "id": "87743bb9",
   "metadata": {},
   "outputs": [
    {
     "name": "stdout",
     "output_type": "stream",
     "text": [
      "Evaluating detections...\n"
     ]
    },
    {
     "name": "stderr",
     "output_type": "stream",
     "text": [
      "12/14/2022 17:16:05 - INFO - fiftyone.utils.eval.detection -   Evaluating detections...\n"
     ]
    },
    {
     "name": "stdout",
     "output_type": "stream",
     "text": [
      " 100% |███████████████████| 85/85 [204.0ms elapsed, 0s remaining, 416.6 samples/s]      \n"
     ]
    },
    {
     "name": "stderr",
     "output_type": "stream",
     "text": [
      "12/14/2022 17:16:05 - INFO - eta.core.utils -    100% |███████████████████| 85/85 [204.0ms elapsed, 0s remaining, 416.6 samples/s]      \n"
     ]
    },
    {
     "name": "stdout",
     "output_type": "stream",
     "text": [
      "Performing IoU sweep...\n"
     ]
    },
    {
     "name": "stderr",
     "output_type": "stream",
     "text": [
      "12/14/2022 17:16:05 - INFO - fiftyone.utils.eval.coco -   Performing IoU sweep...\n"
     ]
    },
    {
     "name": "stdout",
     "output_type": "stream",
     "text": [
      " 100% |███████████████████| 85/85 [240.4ms elapsed, 0s remaining, 353.6 samples/s]      \n"
     ]
    },
    {
     "name": "stderr",
     "output_type": "stream",
     "text": [
      "12/14/2022 17:16:06 - INFO - eta.core.utils -    100% |███████████████████| 85/85 [240.4ms elapsed, 0s remaining, 353.6 samples/s]      \n"
     ]
    },
    {
     "name": "stdout",
     "output_type": "stream",
     "text": [
      "Evaluating detections...\n"
     ]
    },
    {
     "name": "stderr",
     "output_type": "stream",
     "text": [
      "12/14/2022 17:16:06 - INFO - fiftyone.utils.eval.detection -   Evaluating detections...\n"
     ]
    },
    {
     "name": "stdout",
     "output_type": "stream",
     "text": [
      " 100% |███████████████████| 85/85 [177.6ms elapsed, 0s remaining, 478.5 samples/s]      \n"
     ]
    },
    {
     "name": "stderr",
     "output_type": "stream",
     "text": [
      "12/14/2022 17:16:06 - INFO - eta.core.utils -    100% |███████████████████| 85/85 [177.6ms elapsed, 0s remaining, 478.5 samples/s]      \n"
     ]
    },
    {
     "name": "stdout",
     "output_type": "stream",
     "text": [
      "Performing IoU sweep...\n"
     ]
    },
    {
     "name": "stderr",
     "output_type": "stream",
     "text": [
      "12/14/2022 17:16:06 - INFO - fiftyone.utils.eval.coco -   Performing IoU sweep...\n"
     ]
    },
    {
     "name": "stdout",
     "output_type": "stream",
     "text": [
      " 100% |███████████████████| 85/85 [175.7ms elapsed, 0s remaining, 483.8 samples/s]      \n"
     ]
    },
    {
     "name": "stderr",
     "output_type": "stream",
     "text": [
      "12/14/2022 17:16:06 - INFO - eta.core.utils -    100% |███████████████████| 85/85 [175.7ms elapsed, 0s remaining, 483.8 samples/s]      \n"
     ]
    },
    {
     "name": "stdout",
     "output_type": "stream",
     "text": [
      "Evaluating detections...\n"
     ]
    },
    {
     "name": "stderr",
     "output_type": "stream",
     "text": [
      "12/14/2022 17:16:06 - INFO - fiftyone.utils.eval.detection -   Evaluating detections...\n"
     ]
    },
    {
     "name": "stdout",
     "output_type": "stream",
     "text": [
      " 100% |███████████████████| 85/85 [174.9ms elapsed, 0s remaining, 486.1 samples/s]      \n"
     ]
    },
    {
     "name": "stderr",
     "output_type": "stream",
     "text": [
      "12/14/2022 17:16:06 - INFO - eta.core.utils -    100% |███████████████████| 85/85 [174.9ms elapsed, 0s remaining, 486.1 samples/s]      \n"
     ]
    },
    {
     "name": "stdout",
     "output_type": "stream",
     "text": [
      "Performing IoU sweep...\n"
     ]
    },
    {
     "name": "stderr",
     "output_type": "stream",
     "text": [
      "12/14/2022 17:16:06 - INFO - fiftyone.utils.eval.coco -   Performing IoU sweep...\n"
     ]
    },
    {
     "name": "stdout",
     "output_type": "stream",
     "text": [
      " 100% |███████████████████| 85/85 [180.3ms elapsed, 0s remaining, 471.5 samples/s]      \n"
     ]
    },
    {
     "name": "stderr",
     "output_type": "stream",
     "text": [
      "12/14/2022 17:16:06 - INFO - eta.core.utils -    100% |███████████████████| 85/85 [180.3ms elapsed, 0s remaining, 471.5 samples/s]      \n"
     ]
    }
   ],
   "source": [
    "path = '../partial_tests/yolov5/b/'\n",
    "\n",
    "\n",
    "dataset_name = '_'.join(path.split('/')[-3:-1]) + f'_small'\n",
    "fo_dataset = fo.load_dataset(dataset_name) \n",
    "\n",
    "results_AP = eval_fo_dataset(fo_dataset, compute_mAP=True).mAP()\n",
    "results_AP50 = eval_fo_dataset(fo_dataset, compute_mAP=True, iou_threshs=[.50]).mAP()\n",
    "results_AP75 = eval_fo_dataset(fo_dataset, compute_mAP=True, iou_threshs=[.75]).mAP()"
   ]
  },
  {
   "cell_type": "code",
   "execution_count": 37,
   "id": "40974da5",
   "metadata": {},
   "outputs": [
    {
     "data": {
      "text/plain": [
       "0.24891065247063238"
      ]
     },
     "execution_count": 37,
     "metadata": {},
     "output_type": "execute_result"
    }
   ],
   "source": [
    "results_AP"
   ]
  },
  {
   "cell_type": "code",
   "execution_count": null,
   "id": "d0ca0252",
   "metadata": {},
   "outputs": [],
   "source": []
  },
  {
   "cell_type": "code",
   "execution_count": null,
   "id": "92226666",
   "metadata": {},
   "outputs": [],
   "source": []
  },
  {
   "cell_type": "code",
   "execution_count": null,
   "id": "14d1b190",
   "metadata": {},
   "outputs": [],
   "source": []
  },
  {
   "cell_type": "code",
   "execution_count": null,
   "id": "5089bf8f",
   "metadata": {},
   "outputs": [],
   "source": []
  },
  {
   "cell_type": "code",
   "execution_count": 29,
   "id": "e25ec8fe",
   "metadata": {
    "scrolled": false
   },
   "outputs": [
    {
     "name": "stdout",
     "output_type": "stream",
     "text": [
      "Evaluating detections...\n"
     ]
    },
    {
     "name": "stderr",
     "output_type": "stream",
     "text": [
      "12/14/2022 17:12:20 - INFO - fiftyone.utils.eval.detection -   Evaluating detections...\n"
     ]
    },
    {
     "name": "stdout",
     "output_type": "stream",
     "text": [
      " 100% |███████████████████| 85/85 [202.0ms elapsed, 0s remaining, 420.9 samples/s]      \n"
     ]
    },
    {
     "name": "stderr",
     "output_type": "stream",
     "text": [
      "12/14/2022 17:12:20 - INFO - eta.core.utils -    100% |███████████████████| 85/85 [202.0ms elapsed, 0s remaining, 420.9 samples/s]      \n"
     ]
    },
    {
     "name": "stdout",
     "output_type": "stream",
     "text": [
      "Evaluating detections...\n"
     ]
    },
    {
     "name": "stderr",
     "output_type": "stream",
     "text": [
      "12/14/2022 17:12:20 - INFO - fiftyone.utils.eval.detection -   Evaluating detections...\n"
     ]
    },
    {
     "name": "stdout",
     "output_type": "stream",
     "text": [
      " 100% |███████████████████| 85/85 [176.1ms elapsed, 0s remaining, 482.6 samples/s]      \n"
     ]
    },
    {
     "name": "stderr",
     "output_type": "stream",
     "text": [
      "12/14/2022 17:12:21 - INFO - eta.core.utils -    100% |███████████████████| 85/85 [176.1ms elapsed, 0s remaining, 482.6 samples/s]      \n"
     ]
    },
    {
     "name": "stdout",
     "output_type": "stream",
     "text": [
      "Performing IoU sweep...\n"
     ]
    },
    {
     "name": "stderr",
     "output_type": "stream",
     "text": [
      "12/14/2022 17:12:21 - INFO - fiftyone.utils.eval.coco -   Performing IoU sweep...\n"
     ]
    },
    {
     "name": "stdout",
     "output_type": "stream",
     "text": [
      " 100% |███████████████████| 85/85 [242.5ms elapsed, 0s remaining, 350.6 samples/s]      \n"
     ]
    },
    {
     "name": "stderr",
     "output_type": "stream",
     "text": [
      "12/14/2022 17:12:21 - INFO - eta.core.utils -    100% |███████████████████| 85/85 [242.5ms elapsed, 0s remaining, 350.6 samples/s]      \n"
     ]
    },
    {
     "name": "stdout",
     "output_type": "stream",
     "text": [
      "Evaluating detections...\n"
     ]
    },
    {
     "name": "stderr",
     "output_type": "stream",
     "text": [
      "12/14/2022 17:12:21 - INFO - fiftyone.utils.eval.detection -   Evaluating detections...\n"
     ]
    },
    {
     "name": "stdout",
     "output_type": "stream",
     "text": [
      " 100% |███████████████████| 85/85 [178.1ms elapsed, 0s remaining, 477.2 samples/s]      \n"
     ]
    },
    {
     "name": "stderr",
     "output_type": "stream",
     "text": [
      "12/14/2022 17:12:21 - INFO - eta.core.utils -    100% |███████████████████| 85/85 [178.1ms elapsed, 0s remaining, 477.2 samples/s]      \n"
     ]
    },
    {
     "name": "stdout",
     "output_type": "stream",
     "text": [
      "Performing IoU sweep...\n"
     ]
    },
    {
     "name": "stderr",
     "output_type": "stream",
     "text": [
      "12/14/2022 17:12:21 - INFO - fiftyone.utils.eval.coco -   Performing IoU sweep...\n"
     ]
    },
    {
     "name": "stdout",
     "output_type": "stream",
     "text": [
      " 100% |███████████████████| 85/85 [187.6ms elapsed, 0s remaining, 453.1 samples/s]      \n"
     ]
    },
    {
     "name": "stderr",
     "output_type": "stream",
     "text": [
      "12/14/2022 17:12:21 - INFO - eta.core.utils -    100% |███████████████████| 85/85 [187.6ms elapsed, 0s remaining, 453.1 samples/s]      \n"
     ]
    },
    {
     "name": "stdout",
     "output_type": "stream",
     "text": [
      "Evaluating detections...\n"
     ]
    },
    {
     "name": "stderr",
     "output_type": "stream",
     "text": [
      "12/14/2022 17:12:21 - INFO - fiftyone.utils.eval.detection -   Evaluating detections...\n"
     ]
    },
    {
     "name": "stdout",
     "output_type": "stream",
     "text": [
      " 100% |███████████████████| 85/85 [180.3ms elapsed, 0s remaining, 471.4 samples/s]      \n"
     ]
    },
    {
     "name": "stderr",
     "output_type": "stream",
     "text": [
      "12/14/2022 17:12:21 - INFO - eta.core.utils -    100% |███████████████████| 85/85 [180.3ms elapsed, 0s remaining, 471.4 samples/s]      \n"
     ]
    },
    {
     "name": "stdout",
     "output_type": "stream",
     "text": [
      "Performing IoU sweep...\n"
     ]
    },
    {
     "name": "stderr",
     "output_type": "stream",
     "text": [
      "12/14/2022 17:12:21 - INFO - fiftyone.utils.eval.coco -   Performing IoU sweep...\n"
     ]
    },
    {
     "name": "stdout",
     "output_type": "stream",
     "text": [
      " 100% |███████████████████| 85/85 [185.4ms elapsed, 0s remaining, 458.5 samples/s]      \n"
     ]
    },
    {
     "name": "stderr",
     "output_type": "stream",
     "text": [
      "12/14/2022 17:12:22 - INFO - eta.core.utils -    100% |███████████████████| 85/85 [185.4ms elapsed, 0s remaining, 458.5 samples/s]      \n"
     ]
    },
    {
     "name": "stdout",
     "output_type": "stream",
     "text": [
      "Evaluating detections...\n"
     ]
    },
    {
     "name": "stderr",
     "output_type": "stream",
     "text": [
      "/home/lucaszampar/Documentos/test/notebooks/project_utils/project_utils_fo.py:168: FutureWarning: In future versions `DataFrame.to_latex` is expected to utilise the base implementation of `Styler.to_latex` for formatting and rendering. The arguments signature may therefore change. It is recommended instead to use `DataFrame.style.to_latex` which also contains additional functionality.\n",
      "  metrics_per_class.to_latex(path_dir+'metrics_per_class_latex.txt')\n",
      "12/14/2022 17:12:22 - INFO - fiftyone.utils.eval.detection -   Evaluating detections...\n"
     ]
    },
    {
     "name": "stdout",
     "output_type": "stream",
     "text": [
      " 100% |███████████████████| 85/85 [180.4ms elapsed, 0s remaining, 471.2 samples/s]      \n"
     ]
    },
    {
     "name": "stderr",
     "output_type": "stream",
     "text": [
      "12/14/2022 17:12:22 - INFO - eta.core.utils -    100% |███████████████████| 85/85 [180.4ms elapsed, 0s remaining, 471.2 samples/s]      \n"
     ]
    },
    {
     "name": "stdout",
     "output_type": "stream",
     "text": [
      "Evaluating detections...\n"
     ]
    },
    {
     "name": "stderr",
     "output_type": "stream",
     "text": [
      "12/14/2022 17:12:22 - INFO - fiftyone.utils.eval.detection -   Evaluating detections...\n"
     ]
    },
    {
     "name": "stdout",
     "output_type": "stream",
     "text": [
      " 100% |███████████████████| 85/85 [186.4ms elapsed, 0s remaining, 456.0 samples/s]      \n"
     ]
    },
    {
     "name": "stderr",
     "output_type": "stream",
     "text": [
      "12/14/2022 17:12:22 - INFO - eta.core.utils -    100% |███████████████████| 85/85 [186.4ms elapsed, 0s remaining, 456.0 samples/s]      \n"
     ]
    },
    {
     "name": "stdout",
     "output_type": "stream",
     "text": [
      "Performing IoU sweep...\n"
     ]
    },
    {
     "name": "stderr",
     "output_type": "stream",
     "text": [
      "12/14/2022 17:12:22 - INFO - fiftyone.utils.eval.coco -   Performing IoU sweep...\n"
     ]
    },
    {
     "name": "stdout",
     "output_type": "stream",
     "text": [
      " 100% |███████████████████| 85/85 [252.2ms elapsed, 0s remaining, 337.0 samples/s]      \n"
     ]
    },
    {
     "name": "stderr",
     "output_type": "stream",
     "text": [
      "12/14/2022 17:12:22 - INFO - eta.core.utils -    100% |███████████████████| 85/85 [252.2ms elapsed, 0s remaining, 337.0 samples/s]      \n"
     ]
    },
    {
     "name": "stdout",
     "output_type": "stream",
     "text": [
      "Evaluating detections...\n"
     ]
    },
    {
     "name": "stderr",
     "output_type": "stream",
     "text": [
      "12/14/2022 17:12:22 - INFO - fiftyone.utils.eval.detection -   Evaluating detections...\n"
     ]
    },
    {
     "name": "stdout",
     "output_type": "stream",
     "text": [
      " 100% |███████████████████| 85/85 [184.5ms elapsed, 0s remaining, 460.8 samples/s]      \n"
     ]
    },
    {
     "name": "stderr",
     "output_type": "stream",
     "text": [
      "12/14/2022 17:12:23 - INFO - eta.core.utils -    100% |███████████████████| 85/85 [184.5ms elapsed, 0s remaining, 460.8 samples/s]      \n"
     ]
    },
    {
     "name": "stdout",
     "output_type": "stream",
     "text": [
      "Performing IoU sweep...\n"
     ]
    },
    {
     "name": "stderr",
     "output_type": "stream",
     "text": [
      "12/14/2022 17:12:23 - INFO - fiftyone.utils.eval.coco -   Performing IoU sweep...\n"
     ]
    },
    {
     "name": "stdout",
     "output_type": "stream",
     "text": [
      " 100% |███████████████████| 85/85 [186.0ms elapsed, 0s remaining, 457.1 samples/s]      \n"
     ]
    },
    {
     "name": "stderr",
     "output_type": "stream",
     "text": [
      "12/14/2022 17:12:23 - INFO - eta.core.utils -    100% |███████████████████| 85/85 [186.0ms elapsed, 0s remaining, 457.1 samples/s]      \n"
     ]
    },
    {
     "name": "stdout",
     "output_type": "stream",
     "text": [
      "Evaluating detections...\n"
     ]
    },
    {
     "name": "stderr",
     "output_type": "stream",
     "text": [
      "12/14/2022 17:12:23 - INFO - fiftyone.utils.eval.detection -   Evaluating detections...\n"
     ]
    },
    {
     "name": "stdout",
     "output_type": "stream",
     "text": [
      " 100% |███████████████████| 85/85 [174.8ms elapsed, 0s remaining, 486.3 samples/s]      \n"
     ]
    },
    {
     "name": "stderr",
     "output_type": "stream",
     "text": [
      "12/14/2022 17:12:23 - INFO - eta.core.utils -    100% |███████████████████| 85/85 [174.8ms elapsed, 0s remaining, 486.3 samples/s]      \n"
     ]
    },
    {
     "name": "stdout",
     "output_type": "stream",
     "text": [
      "Performing IoU sweep...\n"
     ]
    },
    {
     "name": "stderr",
     "output_type": "stream",
     "text": [
      "12/14/2022 17:12:23 - INFO - fiftyone.utils.eval.coco -   Performing IoU sweep...\n"
     ]
    },
    {
     "name": "stdout",
     "output_type": "stream",
     "text": [
      " 100% |███████████████████| 85/85 [176.7ms elapsed, 0s remaining, 481.1 samples/s]      \n"
     ]
    },
    {
     "name": "stderr",
     "output_type": "stream",
     "text": [
      "12/14/2022 17:12:23 - INFO - eta.core.utils -    100% |███████████████████| 85/85 [176.7ms elapsed, 0s remaining, 481.1 samples/s]      \n"
     ]
    },
    {
     "name": "stdout",
     "output_type": "stream",
     "text": [
      "Evaluating detections...\n"
     ]
    },
    {
     "name": "stderr",
     "output_type": "stream",
     "text": [
      "/home/lucaszampar/Documentos/test/notebooks/project_utils/project_utils_fo.py:168: FutureWarning: In future versions `DataFrame.to_latex` is expected to utilise the base implementation of `Styler.to_latex` for formatting and rendering. The arguments signature may therefore change. It is recommended instead to use `DataFrame.style.to_latex` which also contains additional functionality.\n",
      "  metrics_per_class.to_latex(path_dir+'metrics_per_class_latex.txt')\n",
      "12/14/2022 17:12:23 - INFO - fiftyone.utils.eval.detection -   Evaluating detections...\n"
     ]
    },
    {
     "name": "stdout",
     "output_type": "stream",
     "text": [
      " 100% |███████████████████| 85/85 [191.6ms elapsed, 0s remaining, 443.7 samples/s]      \n"
     ]
    },
    {
     "name": "stderr",
     "output_type": "stream",
     "text": [
      "12/14/2022 17:12:23 - INFO - eta.core.utils -    100% |███████████████████| 85/85 [191.6ms elapsed, 0s remaining, 443.7 samples/s]      \n"
     ]
    },
    {
     "name": "stdout",
     "output_type": "stream",
     "text": [
      "Evaluating detections...\n"
     ]
    },
    {
     "name": "stderr",
     "output_type": "stream",
     "text": [
      "12/14/2022 17:12:23 - INFO - fiftyone.utils.eval.detection -   Evaluating detections...\n"
     ]
    },
    {
     "name": "stdout",
     "output_type": "stream",
     "text": [
      " 100% |███████████████████| 85/85 [200.6ms elapsed, 0s remaining, 423.7 samples/s]      \n"
     ]
    },
    {
     "name": "stderr",
     "output_type": "stream",
     "text": [
      "12/14/2022 17:12:24 - INFO - eta.core.utils -    100% |███████████████████| 85/85 [200.6ms elapsed, 0s remaining, 423.7 samples/s]      \n"
     ]
    },
    {
     "name": "stdout",
     "output_type": "stream",
     "text": [
      "Performing IoU sweep...\n"
     ]
    },
    {
     "name": "stderr",
     "output_type": "stream",
     "text": [
      "12/14/2022 17:12:24 - INFO - fiftyone.utils.eval.coco -   Performing IoU sweep...\n"
     ]
    },
    {
     "name": "stdout",
     "output_type": "stream",
     "text": [
      " 100% |███████████████████| 85/85 [269.2ms elapsed, 0s remaining, 315.7 samples/s]      \n"
     ]
    },
    {
     "name": "stderr",
     "output_type": "stream",
     "text": [
      "12/14/2022 17:12:24 - INFO - eta.core.utils -    100% |███████████████████| 85/85 [269.2ms elapsed, 0s remaining, 315.7 samples/s]      \n"
     ]
    },
    {
     "name": "stdout",
     "output_type": "stream",
     "text": [
      "Evaluating detections...\n"
     ]
    },
    {
     "name": "stderr",
     "output_type": "stream",
     "text": [
      "12/14/2022 17:12:24 - INFO - fiftyone.utils.eval.detection -   Evaluating detections...\n"
     ]
    },
    {
     "name": "stdout",
     "output_type": "stream",
     "text": [
      " 100% |███████████████████| 85/85 [196.7ms elapsed, 0s remaining, 432.1 samples/s]      \n"
     ]
    },
    {
     "name": "stderr",
     "output_type": "stream",
     "text": [
      "12/14/2022 17:12:24 - INFO - eta.core.utils -    100% |███████████████████| 85/85 [196.7ms elapsed, 0s remaining, 432.1 samples/s]      \n"
     ]
    },
    {
     "name": "stdout",
     "output_type": "stream",
     "text": [
      "Performing IoU sweep...\n"
     ]
    },
    {
     "name": "stderr",
     "output_type": "stream",
     "text": [
      "12/14/2022 17:12:24 - INFO - fiftyone.utils.eval.coco -   Performing IoU sweep...\n"
     ]
    },
    {
     "name": "stdout",
     "output_type": "stream",
     "text": [
      " 100% |███████████████████| 85/85 [201.7ms elapsed, 0s remaining, 421.3 samples/s]      \n"
     ]
    },
    {
     "name": "stderr",
     "output_type": "stream",
     "text": [
      "12/14/2022 17:12:24 - INFO - eta.core.utils -    100% |███████████████████| 85/85 [201.7ms elapsed, 0s remaining, 421.3 samples/s]      \n"
     ]
    },
    {
     "name": "stdout",
     "output_type": "stream",
     "text": [
      "Evaluating detections...\n"
     ]
    },
    {
     "name": "stderr",
     "output_type": "stream",
     "text": [
      "12/14/2022 17:12:24 - INFO - fiftyone.utils.eval.detection -   Evaluating detections...\n"
     ]
    },
    {
     "name": "stdout",
     "output_type": "stream",
     "text": [
      " 100% |███████████████████| 85/85 [196.7ms elapsed, 0s remaining, 432.1 samples/s]      \n"
     ]
    },
    {
     "name": "stderr",
     "output_type": "stream",
     "text": [
      "12/14/2022 17:12:24 - INFO - eta.core.utils -    100% |███████████████████| 85/85 [196.7ms elapsed, 0s remaining, 432.1 samples/s]      \n"
     ]
    },
    {
     "name": "stdout",
     "output_type": "stream",
     "text": [
      "Performing IoU sweep...\n"
     ]
    },
    {
     "name": "stderr",
     "output_type": "stream",
     "text": [
      "12/14/2022 17:12:24 - INFO - fiftyone.utils.eval.coco -   Performing IoU sweep...\n"
     ]
    },
    {
     "name": "stdout",
     "output_type": "stream",
     "text": [
      " 100% |███████████████████| 85/85 [201.4ms elapsed, 0s remaining, 422.0 samples/s]      \n"
     ]
    },
    {
     "name": "stderr",
     "output_type": "stream",
     "text": [
      "12/14/2022 17:12:25 - INFO - eta.core.utils -    100% |███████████████████| 85/85 [201.4ms elapsed, 0s remaining, 422.0 samples/s]      \n"
     ]
    },
    {
     "name": "stdout",
     "output_type": "stream",
     "text": [
      "Evaluating detections...\n"
     ]
    },
    {
     "name": "stderr",
     "output_type": "stream",
     "text": [
      "/home/lucaszampar/Documentos/test/notebooks/project_utils/project_utils_fo.py:168: FutureWarning: In future versions `DataFrame.to_latex` is expected to utilise the base implementation of `Styler.to_latex` for formatting and rendering. The arguments signature may therefore change. It is recommended instead to use `DataFrame.style.to_latex` which also contains additional functionality.\n",
      "  metrics_per_class.to_latex(path_dir+'metrics_per_class_latex.txt')\n",
      "12/14/2022 17:12:25 - INFO - fiftyone.utils.eval.detection -   Evaluating detections...\n"
     ]
    },
    {
     "name": "stdout",
     "output_type": "stream",
     "text": [
      " 100% |███████████████████| 85/85 [189.8ms elapsed, 0s remaining, 447.8 samples/s]      \n"
     ]
    },
    {
     "name": "stderr",
     "output_type": "stream",
     "text": [
      "12/14/2022 17:12:25 - INFO - eta.core.utils -    100% |███████████████████| 85/85 [189.8ms elapsed, 0s remaining, 447.8 samples/s]      \n"
     ]
    },
    {
     "name": "stdout",
     "output_type": "stream",
     "text": [
      "Evaluating detections...\n"
     ]
    },
    {
     "name": "stderr",
     "output_type": "stream",
     "text": [
      "12/14/2022 17:12:25 - INFO - fiftyone.utils.eval.detection -   Evaluating detections...\n"
     ]
    },
    {
     "name": "stdout",
     "output_type": "stream",
     "text": [
      " 100% |███████████████████| 85/85 [184.5ms elapsed, 0s remaining, 460.6 samples/s]      \n"
     ]
    },
    {
     "name": "stderr",
     "output_type": "stream",
     "text": [
      "12/14/2022 17:12:25 - INFO - eta.core.utils -    100% |███████████████████| 85/85 [184.5ms elapsed, 0s remaining, 460.6 samples/s]      \n"
     ]
    },
    {
     "name": "stdout",
     "output_type": "stream",
     "text": [
      "Performing IoU sweep...\n"
     ]
    },
    {
     "name": "stderr",
     "output_type": "stream",
     "text": [
      "12/14/2022 17:12:25 - INFO - fiftyone.utils.eval.coco -   Performing IoU sweep...\n"
     ]
    },
    {
     "name": "stdout",
     "output_type": "stream",
     "text": [
      " 100% |███████████████████| 85/85 [249.6ms elapsed, 0s remaining, 340.5 samples/s]      \n"
     ]
    },
    {
     "name": "stderr",
     "output_type": "stream",
     "text": [
      "12/14/2022 17:12:25 - INFO - eta.core.utils -    100% |███████████████████| 85/85 [249.6ms elapsed, 0s remaining, 340.5 samples/s]      \n"
     ]
    },
    {
     "name": "stdout",
     "output_type": "stream",
     "text": [
      "Evaluating detections...\n"
     ]
    },
    {
     "name": "stderr",
     "output_type": "stream",
     "text": [
      "12/14/2022 17:12:25 - INFO - fiftyone.utils.eval.detection -   Evaluating detections...\n"
     ]
    },
    {
     "name": "stdout",
     "output_type": "stream",
     "text": [
      " 100% |███████████████████| 85/85 [183.3ms elapsed, 0s remaining, 463.6 samples/s]      \n"
     ]
    },
    {
     "name": "stderr",
     "output_type": "stream",
     "text": [
      "12/14/2022 17:12:26 - INFO - eta.core.utils -    100% |███████████████████| 85/85 [183.3ms elapsed, 0s remaining, 463.6 samples/s]      \n"
     ]
    },
    {
     "name": "stdout",
     "output_type": "stream",
     "text": [
      "Performing IoU sweep...\n"
     ]
    },
    {
     "name": "stderr",
     "output_type": "stream",
     "text": [
      "12/14/2022 17:12:26 - INFO - fiftyone.utils.eval.coco -   Performing IoU sweep...\n"
     ]
    },
    {
     "name": "stdout",
     "output_type": "stream",
     "text": [
      " 100% |███████████████████| 85/85 [185.8ms elapsed, 0s remaining, 457.5 samples/s]      \n"
     ]
    },
    {
     "name": "stderr",
     "output_type": "stream",
     "text": [
      "12/14/2022 17:12:26 - INFO - eta.core.utils -    100% |███████████████████| 85/85 [185.8ms elapsed, 0s remaining, 457.5 samples/s]      \n"
     ]
    },
    {
     "name": "stdout",
     "output_type": "stream",
     "text": [
      "Evaluating detections...\n"
     ]
    },
    {
     "name": "stderr",
     "output_type": "stream",
     "text": [
      "12/14/2022 17:12:26 - INFO - fiftyone.utils.eval.detection -   Evaluating detections...\n"
     ]
    },
    {
     "name": "stdout",
     "output_type": "stream",
     "text": [
      " 100% |███████████████████| 85/85 [183.9ms elapsed, 0s remaining, 462.2 samples/s]      \n"
     ]
    },
    {
     "name": "stderr",
     "output_type": "stream",
     "text": [
      "12/14/2022 17:12:26 - INFO - eta.core.utils -    100% |███████████████████| 85/85 [183.9ms elapsed, 0s remaining, 462.2 samples/s]      \n"
     ]
    },
    {
     "name": "stdout",
     "output_type": "stream",
     "text": [
      "Performing IoU sweep...\n"
     ]
    },
    {
     "name": "stderr",
     "output_type": "stream",
     "text": [
      "12/14/2022 17:12:26 - INFO - fiftyone.utils.eval.coco -   Performing IoU sweep...\n"
     ]
    },
    {
     "name": "stdout",
     "output_type": "stream",
     "text": [
      " 100% |███████████████████| 85/85 [189.1ms elapsed, 0s remaining, 449.5 samples/s]      \n"
     ]
    },
    {
     "name": "stderr",
     "output_type": "stream",
     "text": [
      "12/14/2022 17:12:26 - INFO - eta.core.utils -    100% |███████████████████| 85/85 [189.1ms elapsed, 0s remaining, 449.5 samples/s]      \n",
      "/home/lucaszampar/Documentos/test/notebooks/project_utils/project_utils_fo.py:168: FutureWarning: In future versions `DataFrame.to_latex` is expected to utilise the base implementation of `Styler.to_latex` for formatting and rendering. The arguments signature may therefore change. It is recommended instead to use `DataFrame.style.to_latex` which also contains additional functionality.\n",
      "  metrics_per_class.to_latex(path_dir+'metrics_per_class_latex.txt')\n"
     ]
    }
   ],
   "source": [
    "path = '../partial_tests/yolov5/b/'\n",
    "\n",
    "for directory in os.listdir(path):\n",
    "    path_dir = path+directory+'/'\n",
    "    dataset_name = '_'.join(path.split('/')[-3:-1]) + f'_{directory}'\n",
    "    #dataset_name = '_'.join(path.split('/')[-4:-1]) + f'_{directory}'\n",
    "    \n",
    "    \n",
    "    fo_dataset = fo.load_dataset(dataset_name) \n",
    "\n",
    "    results = eval_fo_dataset(fo_dataset)\n",
    "    results_AP = eval_fo_dataset(fo_dataset, compute_mAP=True).mAP()\n",
    "    results_AP50 = eval_fo_dataset(fo_dataset, compute_mAP=True, iou_threshs=[.50]).mAP()\n",
    "    results_AP75 = eval_fo_dataset(fo_dataset, compute_mAP=True, iou_threshs=[.75]).mAP()\n",
    "    results_mAP = {'AP': results_AP, 'AP50': results_AP50, 'AP75': results_AP75}\n",
    "\n",
    "    make_dataset_final_metrics(fo_dataset, results, results_mAP, path_dir)\n",
    "    make_metrics_per_class(fo_dataset, results, path_dir)"
   ]
  },
  {
   "cell_type": "code",
   "execution_count": 28,
   "id": "f54db911",
   "metadata": {
    "scrolled": true
   },
   "outputs": [
    {
     "data": {
      "text/plain": [
       "['faster_rcnn_backbone_test_resnet101_fpn_1x',\n",
       " 'faster_rcnn_backbone_test_resnet101_fpn_2x',\n",
       " 'faster_rcnn_backbone_test_resnet50_fpn_1x',\n",
       " 'faster_rcnn_backbone_test_resnet50_fpn_2x',\n",
       " 'faster_rcnn_backbone_test_resnext101_32x4d_fpn_1x',\n",
       " 'faster_rcnn_backbone_test_resnext101_32x4d_fpn_2x',\n",
       " 'faster_rcnn_backbone_test_resnext101_64x4d_fpn_1x',\n",
       " 'faster_rcnn_backbone_test_resnext101_64x4d_fpn_2x',\n",
       " 'faster_rcnn_best_backbone_test0',\n",
       " 'faster_rcnn_best_backbone_test1',\n",
       " 'faster_rcnn_best_backbone_test10',\n",
       " 'faster_rcnn_best_backbone_test11',\n",
       " 'faster_rcnn_best_backbone_test12',\n",
       " 'faster_rcnn_best_backbone_test13',\n",
       " 'faster_rcnn_best_backbone_test14',\n",
       " 'faster_rcnn_best_backbone_test2',\n",
       " 'faster_rcnn_best_backbone_test3',\n",
       " 'faster_rcnn_best_backbone_test4',\n",
       " 'faster_rcnn_best_backbone_test5',\n",
       " 'faster_rcnn_best_backbone_test6',\n",
       " 'faster_rcnn_best_backbone_test7',\n",
       " 'faster_rcnn_best_backbone_test8',\n",
       " 'faster_rcnn_best_backbone_test9',\n",
       " 'yolov5_b_extra_large',\n",
       " 'yolov5_b_large',\n",
       " 'yolov5_b_medium',\n",
       " 'yolov5_b_small',\n",
       " 'yolov5_backbone_test_1e3_extra_large',\n",
       " 'yolov5_backbone_test_1e3_extra_large_p6',\n",
       " 'yolov5_backbone_test_1e3_large',\n",
       " 'yolov5_backbone_test_1e3_large_p6',\n",
       " 'yolov5_backbone_test_1e3_medium',\n",
       " 'yolov5_backbone_test_1e3_medium_p6',\n",
       " 'yolov5_backbone_test_1e3_small',\n",
       " 'yolov5_backbone_test_1e3_small_p6',\n",
       " 'yolov5_backbone_test_1e4_extra_large',\n",
       " 'yolov5_backbone_test_1e4_extra_large_p6',\n",
       " 'yolov5_backbone_test_1e4_large',\n",
       " 'yolov5_backbone_test_1e4_large_p6',\n",
       " 'yolov5_backbone_test_1e4_medium',\n",
       " 'yolov5_backbone_test_1e4_medium_p6',\n",
       " 'yolov5_backbone_test_1e4_small',\n",
       " 'yolov5_backbone_test_1e4_small_p6',\n",
       " 'yolov5_best_backbone_test10',\n",
       " 'yolov5_best_backbone_test11',\n",
       " 'yolov5_best_backbone_test12',\n",
       " 'yolov5_best_backbone_test13',\n",
       " 'yolov5_best_backbone_test14',\n",
       " 'yolov5_best_backbone_test15',\n",
       " 'yolov5_best_backbone_test16',\n",
       " 'yolov5_best_backbone_test17',\n",
       " 'yolov5_best_backbone_test18',\n",
       " 'yolov5_best_backbone_test2',\n",
       " 'yolov5_best_backbone_test3',\n",
       " 'yolov5_best_backbone_test4',\n",
       " 'yolov5_best_backbone_test5',\n",
       " 'yolov5_best_backbone_test6',\n",
       " 'yolov5_best_backbone_test7',\n",
       " 'yolov5_best_backbone_test8',\n",
       " 'yolov5_best_backbone_test9']"
      ]
     },
     "execution_count": 28,
     "metadata": {},
     "output_type": "execute_result"
    }
   ],
   "source": [
    "fo.list_datasets()"
   ]
  },
  {
   "cell_type": "code",
   "execution_count": 13,
   "id": "5aedbeec",
   "metadata": {},
   "outputs": [
    {
     "data": {
      "text/plain": [
       "<module 'torchvision.models' from '/home/lucaszampar/mambaforge/envs/ICE/lib/python3.9/site-packages/torchvision/models/__init__.py'>"
      ]
     },
     "execution_count": 13,
     "metadata": {},
     "output_type": "execute_result"
    }
   ],
   "source": []
  },
  {
   "cell_type": "code",
   "execution_count": null,
   "id": "6c57ba97",
   "metadata": {},
   "outputs": [],
   "source": []
  }
 ],
 "metadata": {
  "kernelspec": {
   "display_name": "Python 3 (ipykernel)",
   "language": "python",
   "name": "python3"
  },
  "language_info": {
   "codemirror_mode": {
    "name": "ipython",
    "version": 3
   },
   "file_extension": ".py",
   "mimetype": "text/x-python",
   "name": "python",
   "nbconvert_exporter": "python",
   "pygments_lexer": "ipython3",
   "version": "3.9.13"
  }
 },
 "nbformat": 4,
 "nbformat_minor": 5
}
