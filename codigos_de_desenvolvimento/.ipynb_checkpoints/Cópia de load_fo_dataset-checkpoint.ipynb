{
 "cells": [
  {
   "cell_type": "code",
   "execution_count": 2,
   "id": "74b2b715",
   "metadata": {},
   "outputs": [],
   "source": [
    "import fiftyone as fo"
   ]
  },
  {
   "cell_type": "code",
   "execution_count": 3,
   "id": "caafe52d",
   "metadata": {},
   "outputs": [],
   "source": [
    "import matplotlib.pyplot as plt\n",
    "import plotly.express as px\n",
    "import plotly.graph_objects as go"
   ]
  },
  {
   "cell_type": "markdown",
   "id": "5bc878ae",
   "metadata": {},
   "source": [
    "# Datasets"
   ]
  },
  {
   "cell_type": "code",
   "execution_count": 4,
   "id": "5f0c5bf3",
   "metadata": {},
   "outputs": [
    {
     "data": {
      "text/plain": [
       "['faster_rcnn_backbone_selection_model_0',\n",
       " 'faster_rcnn_backbone_selection_model_1',\n",
       " 'faster_rcnn_backbone_selection_model_2',\n",
       " 'faster_rcnn_backbone_selection_model_3',\n",
       " 'faster_rcnn_backbone_selection_model_4',\n",
       " 'faster_rcnn_backbone_selection_model_5',\n",
       " 'faster_rcnn_backbone_selection_model_6',\n",
       " 'faster_rcnn_backbone_selection_model_7',\n",
       " 'faster_rcnn_hyperparameter_tuning_model_1',\n",
       " 'faster_rcnn_hyperparameter_tuning_model_12',\n",
       " 'faster_rcnn_hyperparameter_tuning_model_14',\n",
       " 'faster_rcnn_hyperparameter_tuning_model_6',\n",
       " 'faster_rcnn_hyperparameter_tuning_model_9']"
      ]
     },
     "execution_count": 4,
     "metadata": {},
     "output_type": "execute_result"
    }
   ],
   "source": [
    "fo.list_datasets()"
   ]
  },
  {
   "cell_type": "code",
   "execution_count": 5,
   "id": "4274e232",
   "metadata": {},
   "outputs": [],
   "source": [
    "dataset = fo.load_dataset('faster_rcnn_backbone_selection_model_4')"
   ]
  },
  {
   "cell_type": "code",
   "execution_count": null,
   "id": "f121570a",
   "metadata": {},
   "outputs": [],
   "source": [
    "# mudando o nome dos rótulos \n",
    "\n",
    "# labels = {'canario_do_amazonas':'Canário do Amazonas', \n",
    "#           'chupim': 'Chupim', \n",
    "#           'rolinha':'Rolinha', \n",
    "#           'sanhaco_do_coqueiro': 'Sanhaço do Coqueiro', \n",
    "#           'sanhaco_da_amazonia': 'Sanhaço da Amazônia'}\n",
    "\n",
    "# for sample in dataset:\n",
    "#     for ground_truth in sample['ground_truth']['detections']:\n",
    "#         ground_truth['label'] = labels[ground_truth['label']]\n",
    "#     for prediction in sample['prediction']['detections']:\n",
    "#         prediction['label'] = labels[prediction['label']] \n",
    "    \n",
    "#     sample.save()\n",
    "\n",
    "# informações de avaliação\n",
    "#dataset.get_evaluation_info(\"eval\")"
   ]
  },
  {
   "cell_type": "markdown",
   "id": "8f9c6b76",
   "metadata": {},
   "source": [
    "# Interactive Confusion Matrix"
   ]
  },
  {
   "cell_type": "code",
   "execution_count": null,
   "id": "5d5a25ef",
   "metadata": {},
   "outputs": [],
   "source": [
    "# cm = dataset.evaluate_detections(  \"#072ac8\",\n",
    "#         \"#2b9348\"\n",
    "#      pred_field = \"prediction\",\n",
    "#      gt_field = \"ground_truth\",\n",
    "#      classwise= False\n",
    "# )\n",
    "\n",
    "# plot = cm.plot_confusion_matrix()\n",
    "# plot.show(height=800)"
   ]
  },
  {
   "cell_type": "markdown",
   "id": "76c79c43",
   "metadata": {},
   "source": [
    "# Launch App"
   ]
  },
  {
   "cell_type": "code",
   "execution_count": null,
   "id": "f90a4c20",
   "metadata": {},
   "outputs": [],
   "source": [
    "## Altera cores de exibição\n",
    "\n",
    "# session.config.color_by = 'label'\n",
    "# session.config.color_pool = [\n",
    "#     '#ffc600', #amarelo\n",
    "#     '#072ac8', #azul\n",
    "#     '#2b9348', #verde\n",
    "#     '#9e4347', #marrom\n",
    "#     '#2d3752'] #acizentado\n",
    "\n",
    "# fo.app_config.color_pool = [\n",
    "#     '#072ac8', #azul\n",
    "#     '#2b9348' #verde\n",
    "#     ]\n",
    "\n",
    "# fo.app_config.colorscale = None\n",
    "\n",
    "# Print your current App config\n",
    "# print(fo.app_config)"
   ]
  },
  {
   "cell_type": "code",
   "execution_count": null,
   "id": "c1f49fe9",
   "metadata": {},
   "outputs": [],
   "source": [
    "session = fo.launch_app(dataset)\n",
    "session\n",
    "\n",
    "#session.plots.attach(plot)"
   ]
  },
  {
   "cell_type": "markdown",
   "id": "09a4f3ad",
   "metadata": {},
   "source": [
    "# Views"
   ]
  },
  {
   "cell_type": "code",
   "execution_count": 7,
   "id": "8eb10e87",
   "metadata": {},
   "outputs": [],
   "source": [
    "from fiftyone import ViewField as F"
   ]
  },
  {
   "cell_type": "code",
   "execution_count": 15,
   "id": "35ffa936",
   "metadata": {},
   "outputs": [],
   "source": [
    "# seleciona apenas as amostras com algum falso positivo\n",
    "\n",
    "match = F(\"eval\") == \"fp\"\n",
    "view = dataset.match(\n",
    "    F(\"prediction.detections\").filter(match).length() > 0\n",
    ")\n",
    "#session = fo.launch_app(view)\n",
    "#session"
   ]
  },
  {
   "cell_type": "code",
   "execution_count": null,
   "id": "806fb542",
   "metadata": {},
   "outputs": [],
   "source": []
  },
  {
   "cell_type": "code",
   "execution_count": null,
   "id": "d4293bdf",
   "metadata": {},
   "outputs": [],
   "source": []
  },
  {
   "cell_type": "code",
   "execution_count": null,
   "id": "b8812fb7",
   "metadata": {},
   "outputs": [],
   "source": []
  },
  {
   "cell_type": "code",
   "execution_count": null,
   "id": "4fef74ee",
   "metadata": {},
   "outputs": [],
   "source": []
  },
  {
   "cell_type": "code",
   "execution_count": null,
   "id": "36f3a184",
   "metadata": {},
   "outputs": [],
   "source": []
  },
  {
   "cell_type": "markdown",
   "id": "bf4fbfa1",
   "metadata": {},
   "source": [
    "# Count Labels"
   ]
  },
  {
   "cell_type": "code",
   "execution_count": null,
   "id": "cf6227c3",
   "metadata": {},
   "outputs": [],
   "source": [
    "# usado para gerar os arquivos de proporção de anotação\n",
    "# import pandas as pd\n",
    "# total_labels = dataset.count_values(\"ground_truth.detections.label\")\n",
    "\n",
    "# df = pd.DataFrame(total_labels, columns=sorted(total_labels), index=[0])\n",
    "# df.to_csv('complete_valid_proportion.csv', index=False)"
   ]
  },
  {
   "cell_type": "markdown",
   "id": "a5c4d552",
   "metadata": {},
   "source": [
    "# Compute PR curve"
   ]
  },
  {
   "cell_type": "code",
   "execution_count": null,
   "id": "13554674",
   "metadata": {},
   "outputs": [],
   "source": [
    "# Performs an IoU sweep so that mAP and PR curves can be computed\n",
    "\n",
    "# results_5 = eval_fo_dataset(dataset, compute_mAP=True, iou_threshs = [.5])\n",
    "# plot = results_5.plot_pr_curves(classes=results_5.classes)\n",
    "# plot.show()"
   ]
  },
  {
   "cell_type": "code",
   "execution_count": null,
   "id": "94f9a5e4",
   "metadata": {},
   "outputs": [],
   "source": [
    "# metrics_per_class = results_5.report(classes=results_5.classes)\n",
    "\n",
    "# transforma dicionário em dataframe \n",
    "# metrics_per_class = pd.DataFrame(metrics_per_class)\n",
    "# metrics_per_class = metrics_per_class.T\n",
    "# metrics_per_class = metrics_per_class.drop(['support'], axis=1)\n",
    "# metrics_per_class = metrics_per_class.drop(['micro avg', 'macro avg', 'weighted avg'], axis=0)\n",
    "# display(metrics_per_class)\n",
    "\n"
   ]
  },
  {
   "cell_type": "markdown",
   "id": "9daff9c9",
   "metadata": {},
   "source": [
    "# Transform BB in absolute "
   ]
  },
  {
   "cell_type": "code",
   "execution_count": null,
   "id": "487b0856",
   "metadata": {
    "scrolled": true
   },
   "outputs": [],
   "source": [
    "#for detection in dataset['63c97040bcee5f9d5baf5a79'].ground_truth.detections:\n",
    "# from math import floor\n",
    "\n",
    "# dataset['63c97040bcee5f9d5baf5a79'].prediction.detections\n",
    "\n",
    "# for detection in dataset['63c97040bcee5f9d5baf5a79'].prediction.detections:\n",
    "#     print(detection['label'],'-',detection['confidence'])\n",
    "    \n",
    "#     width = floor(1280*detection['bounding_box'][2])\n",
    "#     height =  floor(720*detection['bounding_box'][3])   \n",
    "    \n",
    "#     top_left_x = floor(detection['bounding_box'][0] * 1280 )\n",
    "#     top_left_y = floor(detection['bounding_box'][1] * 720 )\n",
    "    \n",
    "    \n",
    "#     print('X: {} - Y: {}'.format(top_left_x, top_left_y))\n",
    "#     print('W: {} - H: {}'.format(width, height))\n",
    "#     print()\n",
    "    "
   ]
  },
  {
   "cell_type": "markdown",
   "id": "f818503d",
   "metadata": {},
   "source": [
    "# Computa IoU"
   ]
  },
  {
   "cell_type": "code",
   "execution_count": null,
   "id": "82beb896",
   "metadata": {},
   "outputs": [],
   "source": [
    "# sample_id = '63c97040bcee5f9d5baf5af9'\n",
    "# sample = matching_view[sample_id]\n",
    "\n",
    "\n",
    "# sample_gts = sample['ground_truth']['detections']\n",
    "# sample_preds = sample['prediction']['detections']\n",
    "\n",
    "# gt_ids = ['63c9703fbcee5f9d5baf59aa', '63c9703fbcee5f9d5baf59a9']\n",
    "# pred_ids = ['63c9703fbcee5f9d5baf59af']\n",
    "\n",
    "\n",
    "\n",
    "# gts = [detection for detection in sample_gts if detection['id'] in gt_ids] \n",
    "# preds = [detection for detection in sample_preds if detection['id'] in pred_ids] \n",
    "\n",
    "\n",
    "# fo.utils.iou.compute_ious(preds, gts)"
   ]
  },
  {
   "cell_type": "markdown",
   "id": "9ddf398b",
   "metadata": {},
   "source": [
    "# Teste para entender o critério de decisão da matriz de confusão"
   ]
  },
  {
   "cell_type": "code",
   "execution_count": null,
   "id": "58cc5aed",
   "metadata": {},
   "outputs": [],
   "source": [
    "# sample = dataset['63c97040bcee5f9d5baf5a79']\n",
    "\n",
    "# sample['prediction']['detections'][1]['label'] = 'Sanhaço do Coqueiro'\n",
    "# sample['prediction']['detections'][1]['confidence'] = 0.30\n",
    "\n",
    "# sample['prediction']['detections'][2]['label'] = 'Sanhaço do Coqueiro'\n",
    "# sample['prediction']['detections'][2]['confidence'] = 0.90\n",
    "\n",
    "# sample.save()"
   ]
  },
  {
   "cell_type": "code",
   "execution_count": null,
   "id": "df283f38",
   "metadata": {},
   "outputs": [],
   "source": []
  }
 ],
 "metadata": {
  "kernelspec": {
   "display_name": "Python 3 (ipykernel)",
   "language": "python",
   "name": "python3"
  },
  "language_info": {
   "codemirror_mode": {
    "name": "ipython",
    "version": 3
   },
   "file_extension": ".py",
   "mimetype": "text/x-python",
   "name": "python",
   "nbconvert_exporter": "python",
   "pygments_lexer": "ipython3",
   "version": "3.9.13"
  }
 },
 "nbformat": 4,
 "nbformat_minor": 5
}
