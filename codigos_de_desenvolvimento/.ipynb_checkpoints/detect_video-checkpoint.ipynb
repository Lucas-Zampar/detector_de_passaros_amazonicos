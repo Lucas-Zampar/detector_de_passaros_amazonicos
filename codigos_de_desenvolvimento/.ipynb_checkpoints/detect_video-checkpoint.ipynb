{
 "cells": [
  {
   "cell_type": "markdown",
   "metadata": {},
   "source": [
    "Neste notebook, consta o código para anotar os frames de um vídeo por meio do modelo definitivo. \n",
    "\n",
    "**OBS**: alguns alertas podem ser levantados durante sua execução."
   ]
  },
  {
   "cell_type": "markdown",
   "metadata": {},
   "source": [
    "# Imports"
   ]
  },
  {
   "cell_type": "code",
   "execution_count": null,
   "metadata": {},
   "outputs": [],
   "source": [
    "import sys\n",
    "import PIL\n",
    "from project_utils.fo_dataset_pipeline import *\n",
    "from project_utils.draw_detections import *"
   ]
  },
  {
   "cell_type": "code",
   "execution_count": null,
   "metadata": {},
   "outputs": [],
   "source": [
    "from tqdm import trange"
   ]
  },
  {
   "cell_type": "markdown",
   "metadata": {},
   "source": [
    "# Carregando o modelo"
   ]
  },
  {
   "cell_type": "code",
   "execution_count": null,
   "metadata": {},
   "outputs": [],
   "source": [
    "# caminho para o modelo definitivo\n",
    "model_path = '../faster_rcnn/final_test/model_0/mmdet.faster_rcnn_resnext101_32x4d_fpn_1x.pth'\n",
    "\n",
    "# carrega o modelo \n",
    "model_type, model, img_size, class_map = get_model_from_checkpoint(model_path)\n",
    "\n",
    "# define a lista de transformações na imagem para inferência pelo modelo conforme os parâmetros de treinamento\n",
    "infer_tfms = get_tfms(img_size=img_size, tfms_type = 'valid')"
   ]
  },
  {
   "cell_type": "markdown",
   "metadata": {},
   "source": [
    "# Carregando o Vídeo"
   ]
  },
  {
   "cell_type": "code",
   "execution_count": null,
   "metadata": {},
   "outputs": [],
   "source": [
    "# solicita o nome de arquivo do vídeo\n",
    "video_filename = input('Digite o nome do arqivo de vídeo: ')\n",
    "\n",
    "# define o nome do novo arquivo de vídeo com os frames anotados\n",
    "new_video_filename = f'new_{video_filename.split(\".\")[0]}.mp4'\n",
    "\n",
    "# inicia a captura de vídeo\n",
    "video = cv2.VideoCapture(video_filename)\n",
    "\n",
    "# verifica se o vídeo abriu corretamente\n",
    "if video.isOpened() == False:\n",
    "    # caso não tenha aberto, encerra o programa\n",
    "    print('Erro ao abrir arquivo!')\n",
    "    sys.exit() \n",
    "\n",
    "# defina a largura e altura dos frames\n",
    "frame_width = int(video.get(3))\n",
    "frame_height = int(video.get(4))\n",
    "\n",
    "# define o codec (no caso, será MP4, mas podem ser outros)\n",
    "fourcc = cv2.VideoWriter_fourcc(*'mp4v')\n",
    "\n",
    "# writer para novo vídeo\n",
    "new_video = cv2.VideoWriter(new_video_filename, fourcc, 30, (frame_width, frame_height))\n"
   ]
  },
  {
   "cell_type": "markdown",
   "metadata": {},
   "source": [
    "# Anotando o Vídeo"
   ]
  },
  {
   "cell_type": "code",
   "execution_count": null,
   "metadata": {},
   "outputs": [],
   "source": [
    "# número total de frames\n",
    "total_frames = int(video.get(cv2.CAP_PROP_FRAME_COUNT))\n",
    "\n",
    "print('Iniciando a escrita dos frames ...')\n",
    "\n",
    "for _ in trange(total_frames):\n",
    "    # lê o próximo frame\n",
    "    ret, frame = video.read()\n",
    "\n",
    "    if ret == True: \n",
    "        # converte de BGR para RGB\n",
    "        pil_array = cv2.cvtColor(frame, cv2.COLOR_BGR2RGB)\n",
    "        \n",
    "        # converte array em objeto PIL\n",
    "        pil_frame = PIL.Image.fromarray(pil_array)\n",
    "\n",
    "        # inferência\n",
    "        preds = model_type.end2end_detect(pil_frame, infer_tfms, model, class_map=class_map, detection_threshold=0.5)\n",
    "        \n",
    "        # anota a frame\n",
    "        new_frame = draw_bb(frame, preds)\n",
    "\n",
    "        # salva o frame\n",
    "        new_video.write(new_frame)\n",
    "        \n",
    "    else: \n",
    "        # caso não haja mais frames válidos para ler, encerre o laço\n",
    "        break\n",
    "\n",
    "\n",
    "'''\n",
    "while True: \n",
    "\n",
    "    if current_frame % 10 == 0: \n",
    "        # a cada 10 frames, exibe o total de frames já inferidos pelo nmodelo\n",
    "        print(f'frames: {current_frame}/{total_frames}')\n",
    "    \n",
    "    # lê o próximo frame\n",
    "    ret, frame = video.read()\n",
    "\n",
    "    if ret == True: \n",
    "        # converte de BGR para RGB\n",
    "        pil_array = cv2.cvtColor(frame, cv2.COLOR_BGR2RGB)\n",
    "        \n",
    "        # converte array em objeto PIL\n",
    "        pil_frame = PIL.Image.fromarray(pil_array)\n",
    "\n",
    "        # inferência\n",
    "        preds = model_type.end2end_detect(pil_frame, infer_tfms, model, class_map=class_map, detection_threshold=0.5)\n",
    "        \n",
    "        # desenha a caixa delimitadora no novo frame\n",
    "        new_frame = draw_bb(frame, preds)\n",
    "\n",
    "        # salva o frame\n",
    "        new_video.write(new_frame)\n",
    "        \n",
    "    else: \n",
    "        # caso não haja mais frames para ler, encerre o laço\n",
    "        break\n",
    "        \n",
    "    current_frame += 1\n",
    "'''"
   ]
  },
  {
   "cell_type": "markdown",
   "metadata": {},
   "source": [
    "# Salvando o Vídeo"
   ]
  },
  {
   "cell_type": "code",
   "execution_count": null,
   "metadata": {},
   "outputs": [],
   "source": [
    "video.release()\n",
    "new_video.release()"
   ]
  }
 ],
 "metadata": {
  "kernelspec": {
   "display_name": "Python 3 (ipykernel)",
   "language": "python",
   "name": "python3"
  },
  "language_info": {
   "codemirror_mode": {
    "name": "ipython",
    "version": 3
   },
   "file_extension": ".py",
   "mimetype": "text/x-python",
   "name": "python",
   "nbconvert_exporter": "python",
   "pygments_lexer": "ipython3",
   "version": "3.9.16"
  }
 },
 "nbformat": 4,
 "nbformat_minor": 2
}
