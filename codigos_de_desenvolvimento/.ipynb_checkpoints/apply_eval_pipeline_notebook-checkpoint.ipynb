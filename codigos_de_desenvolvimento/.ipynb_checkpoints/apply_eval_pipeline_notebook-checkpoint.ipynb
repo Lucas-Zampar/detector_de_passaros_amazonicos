{
 "cells": [
  {
   "cell_type": "code",
   "execution_count": 3,
   "id": "cc037556",
   "metadata": {},
   "outputs": [],
   "source": [
    "import os\n",
    "import fiftyone as fo\n",
    "from project_utils.fo_dataset_pipeline import *\n",
    "from project_utils.eval_pipeline import *"
   ]
  },
  {
   "cell_type": "code",
   "execution_count": null,
   "id": "2545c46d",
   "metadata": {},
   "outputs": [],
   "source": [
    "#base_path = '../faster_rcnn/backbone_selection/'\n",
    "#base_path = '../faster_rcnn/hyperparameter_tuning/'\n",
    "\n",
    "\n",
    "for folder in os.listdir(base_path):\n",
    "    model_path = base_path + folder + '/'\n",
    "    dataset_name = get_fo_dataset_name(model_path)\n",
    "    fo_dataset = fo.load_dataset(dataset_name)\n",
    "    apply_eval_pipeline(fo_dataset, model_path)"
   ]
  },
  {
   "cell_type": "code",
   "execution_count": 5,
   "id": "af56c37e",
   "metadata": {},
   "outputs": [
    {
     "name": "stdout",
     "output_type": "stream",
     "text": [
      "Evaluating detections...\n"
     ]
    },
    {
     "name": "stderr",
     "output_type": "stream",
     "text": [
      "02/07/2023 00:57:42 - INFO - fiftyone.utils.eval.detection -   Evaluating detections...\n"
     ]
    },
    {
     "name": "stdout",
     "output_type": "stream",
     "text": [
      " 100% |███████████████████| 85/85 [210.1ms elapsed, 0s remaining, 404.5 samples/s]      \n"
     ]
    },
    {
     "name": "stderr",
     "output_type": "stream",
     "text": [
      "02/07/2023 00:57:42 - INFO - eta.core.utils -    100% |███████████████████| 85/85 [210.1ms elapsed, 0s remaining, 404.5 samples/s]      \n"
     ]
    },
    {
     "name": "stdout",
     "output_type": "stream",
     "text": [
      "Evaluating detections...\n"
     ]
    },
    {
     "name": "stderr",
     "output_type": "stream",
     "text": [
      "02/07/2023 00:57:42 - INFO - fiftyone.utils.eval.detection -   Evaluating detections...\n"
     ]
    },
    {
     "name": "stdout",
     "output_type": "stream",
     "text": [
      " 100% |███████████████████| 85/85 [191.5ms elapsed, 0s remaining, 443.9 samples/s]      \n"
     ]
    },
    {
     "name": "stderr",
     "output_type": "stream",
     "text": [
      "02/07/2023 00:57:42 - INFO - eta.core.utils -    100% |███████████████████| 85/85 [191.5ms elapsed, 0s remaining, 443.9 samples/s]      \n"
     ]
    },
    {
     "name": "stdout",
     "output_type": "stream",
     "text": [
      "Evaluating detections...\n"
     ]
    },
    {
     "name": "stderr",
     "output_type": "stream",
     "text": [
      "02/07/2023 00:57:42 - INFO - fiftyone.utils.eval.detection -   Evaluating detections...\n"
     ]
    },
    {
     "name": "stdout",
     "output_type": "stream",
     "text": [
      " 100% |███████████████████| 85/85 [191.9ms elapsed, 0s remaining, 443.0 samples/s]      \n"
     ]
    },
    {
     "name": "stderr",
     "output_type": "stream",
     "text": [
      "02/07/2023 00:57:42 - INFO - eta.core.utils -    100% |███████████████████| 85/85 [191.9ms elapsed, 0s remaining, 443.0 samples/s]      \n"
     ]
    },
    {
     "name": "stdout",
     "output_type": "stream",
     "text": [
      "Performing IoU sweep...\n"
     ]
    },
    {
     "name": "stderr",
     "output_type": "stream",
     "text": [
      "02/07/2023 00:57:42 - INFO - fiftyone.utils.eval.coco -   Performing IoU sweep...\n"
     ]
    },
    {
     "name": "stdout",
     "output_type": "stream",
     "text": [
      " 100% |███████████████████| 85/85 [267.1ms elapsed, 0s remaining, 318.2 samples/s]      \n"
     ]
    },
    {
     "name": "stderr",
     "output_type": "stream",
     "text": [
      "02/07/2023 00:57:43 - INFO - eta.core.utils -    100% |███████████████████| 85/85 [267.1ms elapsed, 0s remaining, 318.2 samples/s]      \n"
     ]
    },
    {
     "name": "stdout",
     "output_type": "stream",
     "text": [
      "Evaluating detections...\n"
     ]
    },
    {
     "name": "stderr",
     "output_type": "stream",
     "text": [
      "02/07/2023 00:57:43 - INFO - fiftyone.utils.eval.detection -   Evaluating detections...\n"
     ]
    },
    {
     "name": "stdout",
     "output_type": "stream",
     "text": [
      " 100% |███████████████████| 85/85 [191.1ms elapsed, 0s remaining, 444.9 samples/s]      \n"
     ]
    },
    {
     "name": "stderr",
     "output_type": "stream",
     "text": [
      "02/07/2023 00:57:43 - INFO - eta.core.utils -    100% |███████████████████| 85/85 [191.1ms elapsed, 0s remaining, 444.9 samples/s]      \n"
     ]
    },
    {
     "name": "stdout",
     "output_type": "stream",
     "text": [
      "Performing IoU sweep...\n"
     ]
    },
    {
     "name": "stderr",
     "output_type": "stream",
     "text": [
      "02/07/2023 00:57:43 - INFO - fiftyone.utils.eval.coco -   Performing IoU sweep...\n"
     ]
    },
    {
     "name": "stdout",
     "output_type": "stream",
     "text": [
      " 100% |███████████████████| 85/85 [202.5ms elapsed, 0s remaining, 419.7 samples/s]      \n"
     ]
    },
    {
     "name": "stderr",
     "output_type": "stream",
     "text": [
      "02/07/2023 00:57:43 - INFO - eta.core.utils -    100% |███████████████████| 85/85 [202.5ms elapsed, 0s remaining, 419.7 samples/s]      \n"
     ]
    },
    {
     "name": "stdout",
     "output_type": "stream",
     "text": [
      "Evaluating detections...\n"
     ]
    },
    {
     "name": "stderr",
     "output_type": "stream",
     "text": [
      "02/07/2023 00:57:43 - INFO - fiftyone.utils.eval.detection -   Evaluating detections...\n"
     ]
    },
    {
     "name": "stdout",
     "output_type": "stream",
     "text": [
      " 100% |███████████████████| 85/85 [198.4ms elapsed, 0s remaining, 428.4 samples/s]      \n"
     ]
    },
    {
     "name": "stderr",
     "output_type": "stream",
     "text": [
      "02/07/2023 00:57:43 - INFO - eta.core.utils -    100% |███████████████████| 85/85 [198.4ms elapsed, 0s remaining, 428.4 samples/s]      \n"
     ]
    },
    {
     "name": "stdout",
     "output_type": "stream",
     "text": [
      "Performing IoU sweep...\n"
     ]
    },
    {
     "name": "stderr",
     "output_type": "stream",
     "text": [
      "02/07/2023 00:57:43 - INFO - fiftyone.utils.eval.coco -   Performing IoU sweep...\n"
     ]
    },
    {
     "name": "stdout",
     "output_type": "stream",
     "text": [
      " 100% |███████████████████| 85/85 [198.0ms elapsed, 0s remaining, 429.3 samples/s]      \n"
     ]
    },
    {
     "name": "stderr",
     "output_type": "stream",
     "text": [
      "02/07/2023 00:57:43 - INFO - eta.core.utils -    100% |███████████████████| 85/85 [198.0ms elapsed, 0s remaining, 429.3 samples/s]      \n",
      "/home/lucaszampar/Documentos/TCC/notebooks/project_utils/eval_pipeline.py:154: FutureWarning:\n",
      "\n",
      "In future versions `DataFrame.to_latex` is expected to utilise the base implementation of `Styler.to_latex` for formatting and rendering. The arguments signature may therefore change. It is recommended instead to use `DataFrame.style.to_latex` which also contains additional functionality.\n",
      "\n"
     ]
    }
   ],
   "source": [
    "model_path = '../faster_rcnn/backbone_selection/model_4/'\n",
    "#model_path = '../faster_rcnn/hyperparameter_tuning/model_14/'\n",
    "dataset_name = get_fo_dataset_name(model_path)\n",
    "fo_dataset = fo.load_dataset(dataset_name)\n",
    "apply_eval_pipeline(fo_dataset, model_path)"
   ]
  },
  {
   "cell_type": "code",
   "execution_count": null,
   "id": "b19f1c77",
   "metadata": {},
   "outputs": [],
   "source": []
  }
 ],
 "metadata": {
  "kernelspec": {
   "display_name": "Python 3 (ipykernel)",
   "language": "python",
   "name": "python3"
  },
  "language_info": {
   "codemirror_mode": {
    "name": "ipython",
    "version": 3
   },
   "file_extension": ".py",
   "mimetype": "text/x-python",
   "name": "python",
   "nbconvert_exporter": "python",
   "pygments_lexer": "ipython3",
   "version": "3.9.13"
  }
 },
 "nbformat": 4,
 "nbformat_minor": 5
}
