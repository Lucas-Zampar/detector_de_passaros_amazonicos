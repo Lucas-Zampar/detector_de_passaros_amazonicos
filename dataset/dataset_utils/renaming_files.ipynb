{
 "cells": [
  {
   "cell_type": "markdown",
   "id": "673efa3a",
   "metadata": {},
   "source": [
    "O presente script visa renomear os arquivos do conjunto baixado através do Roboflow de modo que eles tenham uma nomenclatura mais organizada ao atribuir ao nome de um arquivo um número em uma sequência numérica que começa do 0 e termina no 939, totalizando 940 arquivos."
   ]
  },
  {
   "cell_type": "code",
   "execution_count": 1,
   "id": "342c836f",
   "metadata": {},
   "outputs": [],
   "source": [
    "import os\n",
    "from xml.dom.minidom import parse"
   ]
  },
  {
   "cell_type": "code",
   "execution_count": 4,
   "id": "d63f9398",
   "metadata": {},
   "outputs": [],
   "source": [
    "dataset_dir = 'dataset'\n",
    "\n",
    "filenames = [filename for filename in os.listdir(dataset_dir) if '.jpg' in filename]\n",
    "\n",
    "\n",
    "new_filenames_jpg = {filename:f'{index}.jpg' for index, filename in enumerate(filenames)}\n",
    "\n",
    "new_filenames_xml = {old_filename.replace('.jpg','.xml'): new_filename.replace('.jpg','.xml')\n",
    "                    for old_filename, new_filename in new_filenames_jpg.items()}"
   ]
  },
  {
   "cell_type": "code",
   "execution_count": 13,
   "id": "cfcc2659",
   "metadata": {},
   "outputs": [],
   "source": [
    "for filename, new_filename in new_filenames_xml.items(): \n",
    "    new_xml = open(f\"{dataset_dir}/{new_filename}\", \"w\") \n",
    "    xml_doc = parse(f\"{dataset_dir}/{filename}\")    \n",
    "    \n",
    "    \n",
    "    name = xml_doc.getElementsByTagName('filename')\n",
    "    path = xml_doc.getElementsByTagName('path')\n",
    "     \n",
    "    name[0].childNodes[0].data = new_filename.replace('.xml', '.jpg')\n",
    "    path[0].childNodes[0].data = new_filename.replace('.xml', '.jpg')\n",
    "\n",
    "    os.system(f'rm {dataset_dir}/{filename}')\n",
    "    xml_doc.writexml(new_xml)"
   ]
  },
  {
   "cell_type": "code",
   "execution_count": 14,
   "id": "e0afef20",
   "metadata": {},
   "outputs": [],
   "source": [
    "for filename, new_filename in new_filenames_jpg.items():\n",
    "    os.system(f'mv {dataset_dir}/{filename} {dataset_dir}/{new_filename}')"
   ]
  }
 ],
 "metadata": {
  "kernelspec": {
   "display_name": "Python 3 (ipykernel)",
   "language": "python",
   "name": "python3"
  },
  "language_info": {
   "codemirror_mode": {
    "name": "ipython",
    "version": 3
   },
   "file_extension": ".py",
   "mimetype": "text/x-python",
   "name": "python",
   "nbconvert_exporter": "python",
   "pygments_lexer": "ipython3",
   "version": "3.8.13"
  }
 },
 "nbformat": 4,
 "nbformat_minor": 5
}
