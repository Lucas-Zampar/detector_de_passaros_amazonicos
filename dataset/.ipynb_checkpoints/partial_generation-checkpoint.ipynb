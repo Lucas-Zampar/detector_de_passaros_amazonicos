{
 "cells": [
  {
   "cell_type": "markdown",
   "id": "2bc72800",
   "metadata": {},
   "source": [
    "Neste script, iremos criar um dataset parcial empregado para comparar os resultados obtidos a partir do treinamento de diferentes modelos. O dataset é criado ao selecionar arquivos aleatórios do dataset original contido na pasta `complete_dataset`."
   ]
  },
  {
   "cell_type": "code",
   "execution_count": 1,
   "id": "f8be0b15",
   "metadata": {},
   "outputs": [],
   "source": [
    "import os \n",
    "import numpy as np\n",
    "import pandas as pd\n",
    "from xml.dom.minidom import parse"
   ]
  },
  {
   "cell_type": "markdown",
   "id": "8bb3afe4",
   "metadata": {},
   "source": [
    "Incialmente, vamos definir os caminhos para o dataset original, que se encontra na pasta `complete_dataset`, bem como para o dataset parcial que iremos criar, o qual se encontrará na pasta `partial_dataset`:"
   ]
  },
  {
   "cell_type": "code",
   "execution_count": 2,
   "id": "9cdb0615",
   "metadata": {},
   "outputs": [],
   "source": [
    "dataset_dir = 'total_dataset'\n",
    "partial_dir = 'partial_dataset_2'"
   ]
  },
  {
   "cell_type": "markdown",
   "id": "4634f013",
   "metadata": {},
   "source": [
    "Agora, iremos coletar todos os nomes dos arquivos __xml__ do dataset original. Lembrando que eles devem ser o mesmo das imagens, trocando apenas a extensão para __jpg__:"
   ]
  },
  {
   "cell_type": "code",
   "execution_count": null,
   "id": "11003eec",
   "metadata": {},
   "outputs": [],
   "source": [
    "filenames = [filename for filename in os.listdir(dataset_dir) if '.xml' in filename]"
   ]
  },
  {
   "cell_type": "markdown",
   "id": "1a513b9a",
   "metadata": {},
   "source": [
    "Além disso, iremos criar um dicionário cujas chaves são as classes do nosso dataset. Os valores inicialmente serão definidos como 0, uma vez que eles serão "
   ]
  },
  {
   "cell_type": "code",
   "execution_count": 3,
   "id": "8aebd8a9",
   "metadata": {},
   "outputs": [],
   "source": [
    "labels = {'sanhaco_do_coqueiro':0,\n",
    "          'sanhaco_da_amazonia':0,\n",
    "          'canario_do_amazonas':0,\n",
    "          'rolinha':0,\n",
    "          'chupim':0}"
   ]
  },
  {
   "cell_type": "markdown",
   "id": "9635b43c",
   "metadata": {},
   "source": [
    "Agora, podemos selecionar o nome dos arquivos por meio da função `random.choice` do módulo `numpy`. \n",
    "\n",
    "**OBS: A SEED QUE GEROU O DATASET PARCIAL UTILIZADO NO TRABALHO NÃO FOI ANOTADA. LOGO, A EXECUÇÃO DA CÉLULA ABAIXO PROVAVELMENTE SELECIONARÁ ARQUIVOS DIFERENTES DOS DAQUELES EMPREGADOS NO TRABALHO**."
   ]
  },
  {
   "cell_type": "code",
   "execution_count": 4,
   "id": "f37aefbc",
   "metadata": {},
   "outputs": [],
   "source": [
    "np.random.seed(0) # não é a seed original do trabalho\n",
    "random_filenames = np.random.choice(filenames, 282, replace=False)"
   ]
  },
  {
   "cell_type": "markdown",
   "id": "5ff1e6b5",
   "metadata": {},
   "source": [
    "De modo a contar a quantidade de classes nos arquivos selecionados para o conjunto parcial, é necessário entrar em cada xml e contar a quantidade de classes. "
   ]
  },
  {
   "cell_type": "code",
   "execution_count": 5,
   "id": "256d7de6",
   "metadata": {},
   "outputs": [],
   "source": [
    "for filename in random_filenames: \n",
    "    xml_doc = parse(f'{dataset_dir}/{filename}')\n",
    "    objects = xml_doc.getElementsByTagName('name')\n",
    "    \n",
    "    for elem in objects:\n",
    "        labels[elem.firstChild.data] += 1"
   ]
  },
  {
   "cell_type": "code",
   "execution_count": 7,
   "id": "97eb242f",
   "metadata": {},
   "outputs": [
    {
     "data": {
      "text/plain": [
       "{'sanhaco_do_coqueiro': 97,\n",
       " 'sanhaco_da_amazonia': 86,\n",
       " 'canario_do_amazonas': 201,\n",
       " 'rolinha': 82,\n",
       " 'chupim': 94}"
      ]
     },
     "execution_count": 7,
     "metadata": {},
     "output_type": "execute_result"
    }
   ],
   "source": [
    "labels"
   ]
  },
  {
   "cell_type": "markdown",
   "id": "8ab9bb79",
   "metadata": {},
   "source": [
    "A partir disso, é possível salvar essa informação em um arquivo csv através da biblioteca `Pandas`. "
   ]
  },
  {
   "cell_type": "code",
   "execution_count": 8,
   "id": "59eb93d5",
   "metadata": {
    "scrolled": true
   },
   "outputs": [],
   "source": [
    "df = pd.DataFrame(labels, index=[0])\n",
    "df.to_csv('partial_proportion_2.csv')"
   ]
  },
  {
   "cell_type": "markdown",
   "id": "fff98863",
   "metadata": {},
   "source": [
    "Abaixo, alguns exemplos de arquivos selecionados para comporem o conjunto de dados parcial. "
   ]
  },
  {
   "cell_type": "code",
   "execution_count": 20,
   "id": "ce5ed854",
   "metadata": {},
   "outputs": [
    {
     "data": {
      "text/plain": [
       "array(['210.xml', '619.xml', '872.xml', '229.xml', '726.xml', '602.xml',\n",
       "       '570.xml', '864.xml', '551.xml', '294.xml'], dtype='<U7')"
      ]
     },
     "execution_count": 20,
     "metadata": {},
     "output_type": "execute_result"
    }
   ],
   "source": [
    "random_filenames[:10]"
   ]
  },
  {
   "cell_type": "markdown",
   "id": "888676b4",
   "metadata": {},
   "source": [
    "Por fim, basta copiar e colar os arquivos selecionados. "
   ]
  },
  {
   "cell_type": "code",
   "execution_count": 21,
   "id": "3cb6e42a",
   "metadata": {},
   "outputs": [],
   "source": [
    "if not os.path.isdir(partial_dir):\n",
    "    os.mkdir(partial_dir)"
   ]
  },
  {
   "cell_type": "code",
   "execution_count": 22,
   "id": "176ba35b",
   "metadata": {},
   "outputs": [],
   "source": [
    "for filename in random_filenames:\n",
    "    os.system(f'cp {dataset_dir}/{filename} {partial_dir}/{filename}')\n",
    "    os.system(f'cp {dataset_dir}/{filename.replace(\".xml\",\".jpg\")} {partial_dir}/{filename.replace(\".xml\",\".jpg\")}')"
   ]
  },
  {
   "cell_type": "code",
   "execution_count": 14,
   "id": "7adf5e41",
   "metadata": {},
   "outputs": [
    {
     "data": {
      "text/plain": [
       "False"
      ]
     },
     "execution_count": 14,
     "metadata": {},
     "output_type": "execute_result"
    }
   ],
   "source": [
    "os.path.isdir(partial_dir)"
   ]
  }
 ],
 "metadata": {
  "kernelspec": {
   "display_name": "Python 3 (ipykernel)",
   "language": "python",
   "name": "python3"
  },
  "language_info": {
   "codemirror_mode": {
    "name": "ipython",
    "version": 3
   },
   "file_extension": ".py",
   "mimetype": "text/x-python",
   "name": "python",
   "nbconvert_exporter": "python",
   "pygments_lexer": "ipython3",
   "version": "3.9.16"
  }
 },
 "nbformat": 4,
 "nbformat_minor": 5
}
